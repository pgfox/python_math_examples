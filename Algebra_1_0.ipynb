{
 "cells": [
  {
   "cell_type": "markdown",
   "id": "797d4361",
   "metadata": {
    "toc": true
   },
   "source": [
    "<h1>Table of Contents<span class=\"tocSkip\"></span></h1>\n",
    "<div class=\"toc\"><ul class=\"toc-item\"><li><span><a href=\"#solve-for-x\" data-toc-modified-id=\"solve-for-x-1\"><span class=\"toc-item-num\">1&nbsp;&nbsp;</span>solve for x</a></span></li><li><span><a href=\"#expanding-terms\" data-toc-modified-id=\"expanding-terms-2\"><span class=\"toc-item-num\">2&nbsp;&nbsp;</span>expanding terms</a></span></li><li><span><a href=\"#listing-env-variables\" data-toc-modified-id=\"listing-env-variables-3\"><span class=\"toc-item-num\">3&nbsp;&nbsp;</span>listing env variables</a></span></li><li><span><a href=\"#creating-matrices\" data-toc-modified-id=\"creating-matrices-4\"><span class=\"toc-item-num\">4&nbsp;&nbsp;</span>creating matrices</a></span></li><li><span><a href=\"#create-multiplication-table\" data-toc-modified-id=\"create-multiplication-table-5\"><span class=\"toc-item-num\">5&nbsp;&nbsp;</span>create multiplication table</a></span></li><li><span><a href=\"#associative\" data-toc-modified-id=\"associative-6\"><span class=\"toc-item-num\">6&nbsp;&nbsp;</span>associative</a></span></li></ul></div>"
   ]
  },
  {
   "cell_type": "markdown",
   "id": "307809e7",
   "metadata": {},
   "source": [
    "### solve for x\n",
    "That can be to solve to a number or it can be x in terms of y\n",
    "\n",
    "$$x = 4y + 5 $$\n",
    "\n",
    "Aside: If you move everything to one side of the equation and set it to zero this is often called an \"homogeneous\" form.\n",
    "\n",
    "$$ x = 4y + 5 \\quad \\Rightarrow \\quad x - 4y - 5 = 0$$"
   ]
  },
  {
   "cell_type": "code",
   "execution_count": 17,
   "id": "8a5f91a4",
   "metadata": {},
   "outputs": [
    {
     "data": {
      "text/latex": [
       "$\\displaystyle \\left[ \\frac{5}{2}\\right]$"
      ],
      "text/plain": [
       "[5/2]"
      ]
     },
     "metadata": {},
     "output_type": "display_data"
    }
   ],
   "source": [
    "import sympy as sym\n",
    "import numpy as np\n",
    "from IPython.display import display, Math\n",
    "sym.init_printing()\n",
    "\n",
    "x,y = sym.symbols('x,y')\n",
    "expr = 2*x + 4 - 9\n",
    "display(sym.solve(expr))"
   ]
  },
  {
   "cell_type": "markdown",
   "id": "6623e724",
   "metadata": {},
   "source": [
    "sympy guess we are solving for x as it is the only variable in the equation.\n"
   ]
  },
  {
   "cell_type": "code",
   "execution_count": 15,
   "id": "a5dc93e8",
   "metadata": {},
   "outputs": [
    {
     "data": {
      "text/latex": [
       "$\\displaystyle \\text {there are 2 solutions: x= -3 and x=3}$"
      ],
      "text/plain": [
       "<IPython.core.display.Math object>"
      ]
     },
     "metadata": {},
     "output_type": "display_data"
    }
   ],
   "source": [
    "expr = x**2-9\n",
    "solution = sym.solve(expr)\n",
    "display(Math('\\\\text {there are %g solutions: x= %g and x=%g}'\n",
    "             %(len(solution),solution[0],solution[1])))"
   ]
  },
  {
   "cell_type": "markdown",
   "id": "c8b0f7f4",
   "metadata": {},
   "source": [
    "### two variable equations\n"
   ]
  },
  {
   "cell_type": "code",
   "execution_count": 24,
   "id": "9166e2c6",
   "metadata": {},
   "outputs": [
    {
     "data": {
      "text/latex": [
       "$\\displaystyle \\left[ \\frac{x - 20}{4 x}\\right]$"
      ],
      "text/plain": [
       "⎡x - 20⎤\n",
       "⎢──────⎥\n",
       "⎣ 4⋅x  ⎦"
      ]
     },
     "metadata": {},
     "output_type": "display_data"
    },
    {
     "data": {
      "text/latex": [
       "$\\displaystyle \\left[ - \\frac{20}{4 y - 1}\\right]$"
      ],
      "text/plain": [
       "⎡  -20  ⎤\n",
       "⎢───────⎥\n",
       "⎣4⋅y - 1⎦"
      ]
     },
     "metadata": {},
     "output_type": "display_data"
    }
   ],
   "source": [
    "\n",
    "expr = x/4 - x*y - 5\n",
    "solution = sym.solve(expr,y)\n",
    "display(solution)\n",
    "solution = sym.solve(expr,x)\n",
    "display(solution)"
   ]
  },
  {
   "cell_type": "code",
   "execution_count": 26,
   "id": "5e28a403",
   "metadata": {},
   "outputs": [
    {
     "data": {
      "text/latex": [
       "$\\displaystyle - 2 q + 2 + \\frac{3}{q}$"
      ],
      "text/plain": [
       "           3\n",
       "-2⋅q + 2 + ─\n",
       "           q"
      ]
     },
     "metadata": {},
     "output_type": "display_data"
    },
    {
     "data": {
      "text/latex": [
       "$\\displaystyle \\left[ \\frac{1}{2} - \\frac{\\sqrt{7}}{2}, \\  \\frac{1}{2} + \\frac{\\sqrt{7}}{2}\\right]$"
      ],
      "text/plain": [
       "⎡1   √7  1   √7⎤\n",
       "⎢─ - ──, ─ + ──⎥\n",
       "⎣2   2   2   2 ⎦"
      ]
     },
     "metadata": {},
     "output_type": "display_data"
    }
   ],
   "source": [
    "q = sym.symbols(\"q\")\n",
    "lhs = 3*q  + 4/q + 3 \n",
    "rhs = 5*q + 1/q +1\n",
    "display(sym.simplify(lhs -(rhs)))\n",
    "display(sym.solve(lhs -(rhs)))\n"
   ]
  },
  {
   "cell_type": "code",
   "execution_count": 31,
   "id": "556ef3af",
   "metadata": {},
   "outputs": [
    {
     "data": {
      "text/latex": [
       "$\\displaystyle 3 q^{2} + 2 q - \\frac{5}{q} - \\frac{4}{q^{3}}$"
      ],
      "text/plain": [
       "   2         5   4 \n",
       "3⋅q  + 2⋅q - ─ - ──\n",
       "             q    3\n",
       "                 q "
      ]
     },
     "metadata": {},
     "output_type": "display_data"
    },
    {
     "data": {
      "text/latex": [
       "$\\displaystyle \\frac{3 q^{5} + 2 q^{4} - 5 q^{2} - 4}{q^{3}}$"
      ],
      "text/plain": [
       "   5      4      2    \n",
       "3⋅q  + 2⋅q  - 5⋅q  - 4\n",
       "──────────────────────\n",
       "           3          \n",
       "          q           "
      ]
     },
     "metadata": {},
     "output_type": "display_data"
    }
   ],
   "source": [
    "expr = 2*q + 3*q**2 - 5/q -4/q**3\n",
    "display(sym.simplify(expr))\n",
    "#cancel common factors in the rational function\n",
    "display(sym.cancel(expr))\n"
   ]
  },
  {
   "cell_type": "code",
   "execution_count": 33,
   "id": "dba7051a",
   "metadata": {},
   "outputs": [],
   "source": [
    "sym.cancel?"
   ]
  },
  {
   "cell_type": "code",
   "execution_count": 41,
   "id": "25c3c15e",
   "metadata": {},
   "outputs": [
    {
     "data": {
      "text/latex": [
       "$\\displaystyle \\frac{\\sqrt{6}}{2}$"
      ],
      "text/plain": [
       "√6\n",
       "──\n",
       "2 "
      ]
     },
     "metadata": {},
     "output_type": "display_data"
    },
    {
     "data": {
      "text/latex": [
       "$\\displaystyle \\left[ \\right]$"
      ],
      "text/plain": [
       "[]"
      ]
     },
     "metadata": {},
     "output_type": "display_data"
    },
    {
     "data": {
      "text/latex": [
       "$\\displaystyle 1.22474487139159$"
      ],
      "text/plain": [
       "1.22474487139159"
      ]
     },
     "metadata": {},
     "output_type": "display_data"
    },
    {
     "data": {
      "text/latex": [
       "$\\displaystyle 1.22474487139159$"
      ],
      "text/plain": [
       "1.22474487139159"
      ]
     },
     "metadata": {},
     "output_type": "display_data"
    },
    {
     "data": {
      "text/latex": [
       "$\\displaystyle \\frac{\\sqrt{6}}{2}$"
      ],
      "text/plain": [
       "√6\n",
       "──\n",
       "2 "
      ]
     },
     "metadata": {},
     "output_type": "display_data"
    }
   ],
   "source": [
    "expr = (sym.sqrt(3) + sym.sqrt(15)*q)/(sym.sqrt(2)+ sym.sqrt(10)*q)\n",
    "display(sym.simplify(expr))\n",
    "display(sym.solve(expr,q))\n",
    "#force sympy to evaluate the expression\n",
    "display(expr.subs(q,5).evalf())\n",
    "#check to see if it makes a difference.\n",
    "display(expr.subs(q,3).evalf())\n",
    "display(sym.cancel(expr))"
   ]
  },
  {
   "cell_type": "markdown",
   "id": "ef327bb3",
   "metadata": {},
   "source": [
    "### expanding terms\n",
    "\n",
    "expanding terms means:\n",
    "$$a(b + c ) = ab+ac $$\n",
    "$$(a+b)(c+d) = (ac+ad) + (bc+bd)$$"
   ]
  },
  {
   "cell_type": "code",
   "execution_count": 52,
   "id": "204abd4f",
   "metadata": {},
   "outputs": [
    {
     "data": {
      "text/latex": [
       "$\\displaystyle 4 x^{2} + 5 x$"
      ],
      "text/plain": [
       "<IPython.core.display.Math object>"
      ]
     },
     "metadata": {},
     "output_type": "display_data"
    },
    {
     "data": {
      "text/latex": [
       "$\\displaystyle \\left(x - 7\\right) \\left(4 x + 5\\right)$"
      ],
      "text/plain": [
       "<IPython.core.display.Math object>"
      ]
     },
     "metadata": {},
     "output_type": "display_data"
    },
    {
     "data": {
      "text/latex": [
       "$\\displaystyle 4 x^{2} - 23 x - 35$"
      ],
      "text/plain": [
       "<IPython.core.display.Math object>"
      ]
     },
     "metadata": {},
     "output_type": "display_data"
    },
    {
     "data": {
      "text/latex": [
       "$\\displaystyle 4 x^{3} - 23 x^{2} - 35 x$"
      ],
      "text/plain": [
       "<IPython.core.display.Math object>"
      ]
     },
     "metadata": {},
     "output_type": "display_data"
    },
    {
     "data": {
      "text/latex": [
       "$\\displaystyle x \\left(- \\frac{5^{x}}{x} + 2 y^{2}\\right)$"
      ],
      "text/plain": [
       "<IPython.core.display.Math object>"
      ]
     },
     "metadata": {},
     "output_type": "display_data"
    },
    {
     "data": {
      "text/latex": [
       "$\\displaystyle - 5^{x} + 2 x y^{2}$"
      ],
      "text/plain": [
       "<IPython.core.display.Math object>"
      ]
     },
     "metadata": {},
     "output_type": "display_data"
    }
   ],
   "source": [
    "from sympy.abc import x\n",
    "term1 = 4*x +5\n",
    "term2 = x\n",
    "display(Math(sym.latex(sym.expand(term1*term2))))\n",
    "\n",
    "term3 = x - 7\n",
    "display(Math(sym.latex(term1*term3)))\n",
    "display(Math(sym.latex(sym.expand(term1*term3))))\n",
    "\n",
    "display(Math(sym.latex(sym.expand(term1*term2*term3))))\n",
    "\n",
    "\n",
    "expr = x *(2*y**2 - 5**x/x)\n",
    "display(Math(sym.latex(expr)))\n",
    "#expand it \n",
    "display(Math(sym.latex(sym.expand(expr))))\n"
   ]
  },
  {
   "cell_type": "code",
   "execution_count": 67,
   "id": "89d49efa",
   "metadata": {},
   "outputs": [
    {
     "data": {
      "text/latex": [
       "$\\displaystyle - x y + 2 x - 4 y + 8$"
      ],
      "text/plain": [
       "-x⋅y + 2⋅x - 4⋅y + 8"
      ]
     },
     "metadata": {},
     "output_type": "display_data"
    },
    {
     "data": {
      "text/latex": [
       "$\\displaystyle 5$"
      ],
      "text/plain": [
       "5"
      ]
     },
     "metadata": {},
     "output_type": "display_data"
    }
   ],
   "source": [
    "expr_two = (4 + x)*(2-y)\n",
    "expr_two = sym.expand(expr_two)\n",
    "display(expr_two)\n",
    "expr_two = expr_two.subs({x:1,y:1})\n",
    "display(expr_two)"
   ]
  },
  {
   "cell_type": "markdown",
   "id": "e8a5407e",
   "metadata": {},
   "source": [
    "### listing env variables\n",
    "list the variables that are defined in the jupyter notebook."
   ]
  },
  {
   "cell_type": "code",
   "execution_count": 54,
   "id": "3877b37a",
   "metadata": {},
   "outputs": [
    {
     "name": "stdout",
     "output_type": "stream",
     "text": [
      "Variable        Type        Data/Info\n",
      "-------------------------------------\n",
      "Math            type        <class 'IPython.core.display.Math'>\n",
      "display         function    <function display at 0x7fdbe8cec700>\n",
      "expr            Mul         x*(-5**x/x + 2*y**2)\n",
      "json            module      <module 'json' from '/Lib<...>hon3.9/json/__init__.py'>\n",
      "lhs             Add         3*q + 3 + 4/q\n",
      "np              module      <module 'numpy' from '/Li<...>kages/numpy/__init__.py'>\n",
      "q               Symbol      q\n",
      "rhs             Add         5*q + 1 + 1/q\n",
      "sol             list        n=2\n",
      "solution        list        n=1\n",
      "sym             module      <module 'sympy' from '/Li<...>kages/sympy/__init__.py'>\n",
      "term1           Add         4*x + 5\n",
      "term2           Symbol      x\n",
      "term3           Add         x - 7\n",
      "x               Symbol      x\n",
      "y               Symbol      y\n",
      "yapf_reformat   function    <function yapf_reformat at 0x7fdbeeb344c0>\n"
     ]
    }
   ],
   "source": [
    "%whos"
   ]
  },
  {
   "cell_type": "markdown",
   "id": "1b904760",
   "metadata": {},
   "source": [
    "### creating matrices\n",
    "\n",
    "Matrix: an ordered set of numbers ( if the order is different - then the matrix are different)\n",
    "\n"
   ]
  },
  {
   "cell_type": "code",
   "execution_count": 76,
   "id": "69af84f8",
   "metadata": {},
   "outputs": [
    {
     "data": {
      "text/latex": [
       "$\\displaystyle \\left[ \\left[ 1, \\  2\\right], \\  \\left[ 3, \\  4\\right]\\right]$"
      ],
      "text/plain": [
       "[[1, 2], [3, 4]]"
      ]
     },
     "metadata": {},
     "output_type": "display_data"
    },
    {
     "data": {
      "text/latex": [
       "$\\displaystyle \\left[\\begin{matrix}1 & 2\\\\3 & 4\\end{matrix}\\right]$"
      ],
      "text/plain": [
       "<IPython.core.display.Math object>"
      ]
     },
     "metadata": {},
     "output_type": "display_data"
    }
   ],
   "source": [
    "A = [[1,2],[3,4]]\n",
    "display(A)\n",
    "A = np.array([[1,2],[3,4]])\n",
    "\n",
    "#print the matrix - convert into a sympy object  and then get the latex for that.\n",
    "display(Math(sym.latex(sym.sympify(A))))"
   ]
  },
  {
   "cell_type": "code",
   "execution_count": 103,
   "id": "c8dfc677",
   "metadata": {},
   "outputs": [
    {
     "data": {
      "text/latex": [
       "$\\displaystyle \\left[\\begin{matrix}0.0 & 0.0 & 0.0 & 0.0 & 0.0 & 0.0\\\\0.0 & 0.0 & 0.0 & 0.0 & 0.0 & 0.0\\\\0.0 & 0.0 & 0.0 & 0.0 & 0.0 & 0.0\\\\0.0 & 0.0 & 0.0 & 0.0 & 0.0 & 0.0\\end{matrix}\\right]$"
      ],
      "text/plain": [
       "<IPython.core.display.Math object>"
      ]
     },
     "metadata": {},
     "output_type": "display_data"
    },
    {
     "data": {
      "text/latex": [
       "$\\displaystyle \\left[\\begin{matrix}0.0 & 0.0 & 0.0 & 0.0 & 0.0 & 0.0\\\\0.0 & 0.0 & 0.0 & 0.0 & 0.0 & 0.0\\\\0.0 & 0.0 & 0.0 & 0.0 & 7.0 & 0.0\\\\0.0 & 0.0 & 0.0 & 0.0 & 0.0 & 0.0\\end{matrix}\\right]$"
      ],
      "text/plain": [
       "<IPython.core.display.Math object>"
      ]
     },
     "metadata": {},
     "output_type": "display_data"
    },
    {
     "data": {
      "text/latex": [
       "$\\displaystyle \\left[\\begin{matrix}7 & 7 & 7\\\\7 & 7 & 7\\\\7 & 7 & 7\\end{matrix}\\right]$"
      ],
      "text/plain": [
       "<IPython.core.display.Math object>"
      ]
     },
     "metadata": {},
     "output_type": "display_data"
    }
   ],
   "source": [
    "B = np.zeros([4,6])\n",
    "display(Math(sym.latex(sym.sympify(B))))\n",
    "B[2,4]=7\n",
    "display(Math(sym.latex(sym.sympify(B))))\n",
    "\n",
    "#create matrix initialised to 7\n",
    "C = np.zeros([3,3],dtype=int) + 7\n",
    "display(Math(sym.latex(sym.sympify(C))))"
   ]
  },
  {
   "cell_type": "markdown",
   "id": "1868e392",
   "metadata": {},
   "source": [
    "### create multiplication table"
   ]
  },
  {
   "cell_type": "code",
   "execution_count": 92,
   "id": "c8b02517",
   "metadata": {},
   "outputs": [
    {
     "data": {
      "text/latex": [
       "$\\displaystyle \\left[\\begin{matrix}1 & 2 & 3 & 4 & 5 & 6 & 7 & 8 & 9 & 10\\\\2 & 4 & 6 & 8 & 10 & 12 & 14 & 16 & 18 & 20\\\\3 & 6 & 9 & 12 & 15 & 18 & 21 & 24 & 27 & 30\\\\4 & 8 & 12 & 16 & 20 & 24 & 28 & 32 & 36 & 40\\\\5 & 10 & 15 & 20 & 25 & 30 & 35 & 40 & 45 & 50\\\\6 & 12 & 18 & 24 & 30 & 36 & 42 & 48 & 54 & 60\\\\7 & 14 & 21 & 28 & 35 & 42 & 49 & 56 & 63 & 70\\\\8 & 16 & 24 & 32 & 40 & 48 & 56 & 64 & 72 & 80\\\\9 & 18 & 27 & 36 & 45 & 54 & 63 & 72 & 81 & 90\\\\10 & 20 & 30 & 40 & 50 & 60 & 70 & 80 & 90 & 100\\end{matrix}\\right]$"
      ],
      "text/plain": [
       "<IPython.core.display.Math object>"
      ]
     },
     "metadata": {},
     "output_type": "display_data"
    }
   ],
   "source": [
    "i,j = sym.symbols('i j')\n",
    "expr = i * j\n",
    "\n",
    "the_range = range(1,11)\n",
    "\n",
    "B=np.zeros((10,10),dtype=int)\n",
    "\n",
    "for j in the_range:\n",
    "    for i in the_range:\n",
    "        B[i-1,j-1]=expr.subs({\"i\":i, \"j\":j})\n",
    "\n",
    "        \n",
    "display(Math(sym.latex(sym.sympify(B))))\n",
    "\n"
   ]
  },
  {
   "cell_type": "markdown",
   "id": "44655673",
   "metadata": {},
   "source": [
    "### associative"
   ]
  },
  {
   "cell_type": "code",
   "execution_count": 94,
   "id": "f44f33d6",
   "metadata": {},
   "outputs": [
    {
     "data": {
      "text/latex": [
       "$\\displaystyle 0$"
      ],
      "text/plain": [
       "0"
      ]
     },
     "metadata": {},
     "output_type": "display_data"
    }
   ],
   "source": [
    "expr1 = 4 * (x * y)\n",
    "expr2 = (4 * x) *y\n",
    "\n",
    "display(expr1 - expr2)"
   ]
  },
  {
   "cell_type": "markdown",
   "id": "7f708c46",
   "metadata": {},
   "source": [
    "### more involved examples"
   ]
  },
  {
   "cell_type": "code",
   "execution_count": 101,
   "id": "2ddb0393",
   "metadata": {},
   "outputs": [
    {
     "data": {
      "text/latex": [
       "$\\displaystyle \\left(y + z\\right) \\left(w \\left(4 - w\\right) + \\frac{w + 1}{w^{2}}\\right) \\left(\\left(w \\left(4 - w\\right) + \\frac{w + 1}{w^{2}}\\right)^{2} + \\frac{3}{w \\left(4 - w\\right) + \\frac{w + 1}{w^{2}}}\\right)$"
      ],
      "text/plain": [
       "                            ⎛                   2                    ⎞\n",
       "        ⎛            w + 1⎞ ⎜⎛            w + 1⎞            3        ⎟\n",
       "(y + z)⋅⎜w⋅(4 - w) + ─────⎟⋅⎜⎜w⋅(4 - w) + ─────⎟  + ─────────────────⎟\n",
       "        ⎜               2 ⎟ ⎜⎜               2 ⎟                w + 1⎟\n",
       "        ⎝              w  ⎠ ⎜⎝              w  ⎠    w⋅(4 - w) + ─────⎟\n",
       "                            ⎜                                      2 ⎟\n",
       "                            ⎝                                     w  ⎠"
      ]
     },
     "metadata": {},
     "output_type": "display_data"
    },
    {
     "name": "stdout",
     "output_type": "stream",
     "text": [
      "===== expanded\n"
     ]
    },
    {
     "data": {
      "text/latex": [
       "$\\displaystyle - w^{6} y - w^{6} z + 12 w^{5} y + 12 w^{5} z - 48 w^{4} y - 48 w^{4} z + 67 w^{3} y + 67 w^{3} z - 21 w^{2} y - \\frac{3 w^{2} y}{- w^{2} + 4 w + \\frac{1}{w} + \\frac{1}{w^{2}}} - 21 w^{2} z - \\frac{3 w^{2} z}{- w^{2} + 4 w + \\frac{1}{w} + \\frac{1}{w^{2}}} + 24 w y + \\frac{12 w y}{- w^{2} + 4 w + \\frac{1}{w} + \\frac{1}{w^{2}}} + 24 w z + \\frac{12 w z}{- w^{2} + 4 w + \\frac{1}{w} + \\frac{1}{w^{2}}} + 45 y + \\frac{3 y}{- w^{4} + 4 w^{3} + w + 1} + \\frac{3 y}{- w^{3} + 4 w^{2} + 1 + \\frac{1}{w}} + 45 z + \\frac{3 z}{- w^{4} + 4 w^{3} + w + 1} + \\frac{3 z}{- w^{3} + 4 w^{2} + 1 + \\frac{1}{w}} + \\frac{6 y}{w} + \\frac{6 z}{w} + \\frac{21 y}{w^{2}} + \\frac{21 z}{w^{2}} + \\frac{13 y}{w^{3}} + \\frac{13 z}{w^{3}} + \\frac{3 y}{w^{4}} + \\frac{3 z}{w^{4}} + \\frac{3 y}{w^{5}} + \\frac{3 z}{w^{5}} + \\frac{y}{w^{6}} + \\frac{z}{w^{6}}$"
      ],
      "text/plain": [
       "                                                                                                2                               2                                               \n",
       "   6      6         5         5         4         4         3         3         2            3⋅w ⋅y             2            3⋅w ⋅z                         12⋅w⋅y              \n",
       "- w ⋅y - w ⋅z + 12⋅w ⋅y + 12⋅w ⋅z - 48⋅w ⋅y - 48⋅w ⋅z + 67⋅w ⋅y + 67⋅w ⋅z - 21⋅w ⋅y - ─────────────────── - 21⋅w ⋅z - ─────────────────── + 24⋅w⋅y + ─────────────────── + 24⋅w⋅\n",
       "                                                                                         2         1   1                 2         1   1                2         1   1         \n",
       "                                                                                      - w  + 4⋅w + ─ + ──             - w  + 4⋅w + ─ + ──            - w  + 4⋅w + ─ + ──        \n",
       "                                                                                                   w    2                          w    2                         w    2        \n",
       "                                                                                                       w                               w                              w         \n",
       "\n",
       "                                                                                                                                                                                \n",
       "           12⋅w⋅z                        3⋅y                   3⋅y                          3⋅z                   3⋅z           6⋅y   6⋅z   21⋅y   21⋅z   13⋅y   13⋅z   3⋅y   3⋅\n",
       "z + ─────────────────── + 45⋅y + ─────────────────── + ─────────────────── + 45⋅z + ─────────────────── + ─────────────────── + ─── + ─── + ──── + ──── + ──── + ──── + ─── + ──\n",
       "       2         1   1              4      3              3      2       1             4      3              3      2       1    w     w      2      2      3      3      4     \n",
       "    - w  + 4⋅w + ─ + ──          - w  + 4⋅w  + w + 1   - w  + 4⋅w  + 1 + ─          - w  + 4⋅w  + w + 1   - w  + 4⋅w  + 1 + ─                w      w      w      w      w     w\n",
       "                 w    2                                                  w                                                  w                                                   \n",
       "                     w                                                                                                                                                          \n",
       "\n",
       "                       \n",
       "z   3⋅y   3⋅z   y    z \n",
       "─ + ─── + ─── + ── + ──\n",
       "4     5     5    6    6\n",
       "     w     w    w    w \n",
       "                       \n",
       "                       "
      ]
     },
     "metadata": {},
     "output_type": "display_data"
    },
    {
     "name": "stdout",
     "output_type": "stream",
     "text": [
      "===== simplified\n"
     ]
    },
    {
     "data": {
      "text/latex": [
       "$\\displaystyle \\frac{\\left(3 w^{6} + \\left(- w^{3} \\left(w - 4\\right) + w + 1\\right)^{3}\\right) \\left(y + z\\right)}{w^{6}}$"
      ],
      "text/plain": [
       "⎛                             3⎞        \n",
       "⎜   6   ⎛   3                ⎞ ⎟        \n",
       "⎝3⋅w  + ⎝- w ⋅(w - 4) + w + 1⎠ ⎠⋅(y + z)\n",
       "────────────────────────────────────────\n",
       "                    6                   \n",
       "                   w                    "
      ]
     },
     "metadata": {},
     "output_type": "display_data"
    },
    {
     "name": "stdout",
     "output_type": "stream",
     "text": [
      "===== commutative\n"
     ]
    },
    {
     "data": {
      "text/latex": [
       "$\\displaystyle \\frac{\\left(3 w^{6} + \\left(- w^{3} \\left(w - 4\\right) + w + 1\\right)^{3}\\right) \\left(y + z\\right)}{w^{6}}$"
      ],
      "text/plain": [
       "⎛                             3⎞        \n",
       "⎜   6   ⎛   3                ⎞ ⎟        \n",
       "⎝3⋅w  + ⎝- w ⋅(w - 4) + w + 1⎠ ⎠⋅(y + z)\n",
       "────────────────────────────────────────\n",
       "                    6                   \n",
       "                   w                    "
      ]
     },
     "metadata": {},
     "output_type": "display_data"
    },
    {
     "data": {
      "text/latex": [
       "$\\displaystyle 0$"
      ],
      "text/plain": [
       "0"
      ]
     },
     "metadata": {},
     "output_type": "display_data"
    }
   ],
   "source": [
    "w,z = sym.symbols('w z')\n",
    "x = w * (4-w) + 1/w**2*(1+w)\n",
    "\n",
    "f1 = x*(y +z) \n",
    "f2 = 3/x + x**2\n",
    "\n",
    "f1f2 = f1 * f2\n",
    "display(f1f2)\n",
    "print(\"===== expanded\")\n",
    "display(sym.expand(f1f2))\n",
    "print(\"===== simplified\")\n",
    "display(sym.simplify(f1f2))\n",
    "print(\"===== commutative\")\n",
    "f2f1 = f2 * f1\n",
    "display(sym.simplify(f2f1))\n",
    "display(f1f2 - f2f1)"
   ]
  }
 ],
 "metadata": {
  "kernelspec": {
   "display_name": "Python 3 (ipykernel)",
   "language": "python",
   "name": "python3"
  },
  "language_info": {
   "codemirror_mode": {
    "name": "ipython",
    "version": 3
   },
   "file_extension": ".py",
   "mimetype": "text/x-python",
   "name": "python",
   "nbconvert_exporter": "python",
   "pygments_lexer": "ipython3",
   "version": "3.9.10"
  },
  "toc": {
   "base_numbering": 1,
   "nav_menu": {},
   "number_sections": true,
   "sideBar": true,
   "skip_h1_title": true,
   "title_cell": "Table of Contents",
   "title_sidebar": "Contents",
   "toc_cell": true,
   "toc_position": {},
   "toc_section_display": true,
   "toc_window_display": false
  }
 },
 "nbformat": 4,
 "nbformat_minor": 5
}

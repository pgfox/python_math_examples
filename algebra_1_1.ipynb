{
 "cells": [
  {
   "cell_type": "markdown",
   "id": "e0f47b1d",
   "metadata": {
    "toc": true
   },
   "source": [
    "<h1>Table of Contents<span class=\"tocSkip\"></span></h1>\n",
    "<div class=\"toc\"><ul class=\"toc-item\"><li><span><a href=\"#lists-and-slicing\" data-toc-modified-id=\"lists-and-slicing-1\"><span class=\"toc-item-num\">1&nbsp;&nbsp;</span>lists and slicing</a></span></li><li><span><a href=\"#slicing-and-skipping\" data-toc-modified-id=\"slicing-and-skipping-2\"><span class=\"toc-item-num\">2&nbsp;&nbsp;</span>slicing and skipping</a></span></li><li><span><a href=\"#greatest-common-denominator-/-greatest-common-factor\" data-toc-modified-id=\"greatest-common-denominator-/-greatest-common-factor-3\"><span class=\"toc-item-num\">3&nbsp;&nbsp;</span>greatest common denominator / greatest common factor</a></span></li><li><span><a href=\"#dictionary\" data-toc-modified-id=\"dictionary-4\"><span class=\"toc-item-num\">4&nbsp;&nbsp;</span>dictionary</a></span></li><li><span><a href=\"#Prime-factorisation\" data-toc-modified-id=\"Prime-factorisation-5\"><span class=\"toc-item-num\">5&nbsp;&nbsp;</span>Prime factorisation</a></span></li><li><span><a href=\"#inequalities\" data-toc-modified-id=\"inequalities-6\"><span class=\"toc-item-num\">6&nbsp;&nbsp;</span>inequalities</a></span></li><li><span><a href=\"#adding/multiple-polynomials\" data-toc-modified-id=\"adding/multiple-polynomials-7\"><span class=\"toc-item-num\">7&nbsp;&nbsp;</span>adding/multiple polynomials</a></span></li><li><span><a href=\"#dividing-polynomials\" data-toc-modified-id=\"dividing-polynomials-8\"><span class=\"toc-item-num\">8&nbsp;&nbsp;</span>dividing polynomials</a></span></li><li><span><a href=\"#check-for-fraction\" data-toc-modified-id=\"check-for-fraction-9\"><span class=\"toc-item-num\">9&nbsp;&nbsp;</span>check for fraction</a></span></li><li><span><a href=\"#factoring-ploynomials\" data-toc-modified-id=\"factoring-ploynomials-10\"><span class=\"toc-item-num\">10&nbsp;&nbsp;</span>factoring ploynomials</a></span></li></ul></div>"
   ]
  },
  {
   "cell_type": "code",
   "execution_count": 25,
   "id": "e1804921",
   "metadata": {},
   "outputs": [],
   "source": [
    "import sympy as sym\n",
    "import numpy as np\n",
    "from IPython.display import display, Math\n",
    "import math as math\n",
    "\n",
    "sym.init_printing()"
   ]
  },
  {
   "cell_type": "markdown",
   "id": "6ca332af",
   "metadata": {},
   "source": [
    "### lists and slicing"
   ]
  },
  {
   "cell_type": "code",
   "execution_count": 9,
   "id": "9d1377cb",
   "metadata": {},
   "outputs": [
    {
     "name": "stdout",
     "output_type": "stream",
     "text": [
      "[1, 3, 5, 7, 8, 9, 0]\n",
      "lenght of list is 7\n",
      "list item '2' is 5 \n",
      "list item '-2' is 9 \n",
      "slice 0:2 [1, 3, 5] up to but not including last index\n"
     ]
    }
   ],
   "source": [
    "my_list = [1,3,5,7,8,9,0]\n",
    "print(my_list)\n",
    "\n",
    "print(f\"lenght of list is {len(my_list)}\")\n",
    "print(f\"list item '2' is {my_list[2]} \")\n",
    "print(f\"list item '-2' is {my_list[-2]} \")\n",
    "\n",
    "print(f\"slice 0:2 {my_list[:3]} up to but not including last index\" )\n"
   ]
  },
  {
   "cell_type": "code",
   "execution_count": 16,
   "id": "0d6033cc",
   "metadata": {},
   "outputs": [
    {
     "name": "stdout",
     "output_type": "stream",
     "text": [
      "slice 0:2 ['a', 'b', 3] up to but not including last index\n",
      "full b_list ['a', 'b', 3, 4, 'e', 6.2, [10, 20, 30]]\n",
      "accessing list within a list 20\n"
     ]
    }
   ],
   "source": [
    "b_list = [\"a\",\"b\",3,4,\"e\",6.2,[10,20,30]]\n",
    "print(f\"slice 0:2 {b_list[:3]} up to but not including last index\" )\n",
    "print(f\"full b_list {b_list}\")\n",
    "print(f\"accessing list within a list {b_list[-1][1]}\")"
   ]
  },
  {
   "cell_type": "code",
   "execution_count": 18,
   "id": "58e0c11c",
   "metadata": {},
   "outputs": [
    {
     "name": "stdout",
     "output_type": "stream",
     "text": [
      "my_list is [0, 1, 2, 3, 4, 5, 6, 7, 8, 9]\n",
      "my_list_b is [0, 2, 4, 6, 8]\n"
     ]
    }
   ],
   "source": [
    "my_list = list(range(0,10))\n",
    "print(f\"my_list is {my_list}\")\n",
    "\n",
    "my_list_b = list(range(0,10,2))\n",
    "print(f\"my_list_b is {my_list_b}\")"
   ]
  },
  {
   "cell_type": "markdown",
   "id": "f47d8fa0",
   "metadata": {},
   "source": [
    "### slicing and skipping"
   ]
  },
  {
   "cell_type": "code",
   "execution_count": 23,
   "id": "dda97e1b",
   "metadata": {},
   "outputs": [
    {
     "name": "stdout",
     "output_type": "stream",
     "text": [
      "my_list_c in full [0, 1, 2, 3, 4, 5, 6, 7, 8, 9, 10, 11, 12, 13, 14, 15, 16, 17, 18, 19, 20]\n",
      "my_list_c slice skipping [9, 11, 13, 15, 17, 19]\n",
      "my_list_c slice skipping over full list [0, 2, 4, 6, 8, 10, 12, 14, 16, 18, 20]\n",
      "my_list_c slice skipping backwards [20, 18, 16, 14, 12, 10, 8, 6, 4, 2, 0]\n"
     ]
    }
   ],
   "source": [
    "#skip slicing\n",
    "my_list_c = list(range(0,21))\n",
    "print(f\"my_list_c in full {my_list_c}\")\n",
    "print(f\"my_list_c slice skipping {my_list_c[9::2]}\")\n",
    "print(f\"my_list_c slice skipping over full list {my_list_c[::2]}\")\n",
    "print(f\"my_list_c slice skipping backwards {my_list_c[::-2]}\")\n"
   ]
  },
  {
   "cell_type": "markdown",
   "id": "0bfc7821",
   "metadata": {},
   "source": [
    "### greatest common denominator / greatest common factor\n",
    "The largest integer that divides into two numbers without a remainder\n",
    "\n",
    "gcd(2,4) = 2\n",
    "\n",
    "gcd(6,15) = 3"
   ]
  },
  {
   "cell_type": "code",
   "execution_count": 29,
   "id": "12f37c6b",
   "metadata": {},
   "outputs": [
    {
     "name": "stdout",
     "output_type": "stream",
     "text": [
      "gcd(6,15) is 3\n",
      "gcd(452,68) is 4\n"
     ]
    }
   ],
   "source": [
    "#only works for integers\n",
    "print(f\"gcd(6,15) is {math.gcd(6,15)}\")\n",
    "print(f\"gcd(452,68) is {math.gcd(452,68)}\")"
   ]
  },
  {
   "cell_type": "code",
   "execution_count": 32,
   "id": "9f96781c",
   "metadata": {},
   "outputs": [
    {
     "data": {
      "text/latex": [
       "$\\displaystyle \\frac {16}{88} = \\frac {2 \\times 8 }{11 \\times 8}$"
      ],
      "text/plain": [
       "<IPython.core.display.Math object>"
      ]
     },
     "metadata": {},
     "output_type": "display_data"
    }
   ],
   "source": [
    "a = 16\n",
    "b = 88\n",
    "\n",
    "gcd_1 = math.gcd(16,88)\n",
    "display(Math('\\\\frac {%g}{%g} = \\\\frac {%g \\\\times %g }{%g \\\\times %g}' \n",
    "             %(a,b,a/gcd_1,gcd_1,b/gcd_1,gcd_1)))"
   ]
  },
  {
   "cell_type": "markdown",
   "id": "5b2868a4",
   "metadata": {},
   "source": [
    "### dictionary"
   ]
  },
  {
   "cell_type": "code",
   "execution_count": 45,
   "id": "b8387e97",
   "metadata": {},
   "outputs": [
    {
     "data": {
      "text/plain": [
       "{'number_1': [1, 2, 3, 5], 'number_2': [10, 100, 1000]}"
      ]
     },
     "metadata": {},
     "output_type": "display_data"
    },
    {
     "data": {
      "text/plain": [
       "dict_keys(['number_1', 'number_2'])"
      ]
     },
     "metadata": {},
     "output_type": "display_data"
    },
    {
     "name": "stdout",
     "output_type": "stream",
     "text": [
      "values from key 2 [10, 100, 1000]\n",
      "values from key 2 [10, 100, 1000]\n",
      "values from key 2 first element 10\n",
      "lenght of keys 2\n",
      "value from key one [1, 2, 3, 5]\n",
      "value from key three None\n"
     ]
    }
   ],
   "source": [
    "my_dict = dict(number_1 = [1,2,3,5],number_2=[10,100,1000])\n",
    "display(my_dict)\n",
    "#listing the keys\n",
    "display(my_dict.keys())\n",
    "print(f\"values from key 2 {my_dict['number_2']}\")\n",
    "print(f\"values from key 2 {my_dict['number_2']}\")\n",
    "print(f\"values from key 2 first element {my_dict['number_2'][0]}\")\n",
    "\n",
    "#number of keys\n",
    "print(f\"lenght of keys {len(my_dict)}\")\n",
    "\n",
    "#alternative access - will not throw element out of range (returns None)\n",
    "print(f\"value from key one {my_dict.get('number_1')}\")\n",
    "print(f\"value from key three {my_dict.get('number_3')}\")\n"
   ]
  },
  {
   "cell_type": "code",
   "execution_count": 46,
   "id": "ba33f58f",
   "metadata": {},
   "outputs": [
    {
     "name": "stdout",
     "output_type": "stream",
     "text": [
      "a_key is number_1\n",
      "a_key is number_2\n"
     ]
    }
   ],
   "source": [
    "#for loops loop over keys in dict object\n",
    "for a_key in my_dict:\n",
    "    print(f\"a_key is {a_key}\")\n",
    "\n"
   ]
  },
  {
   "cell_type": "code",
   "execution_count": 59,
   "id": "8a3476a1",
   "metadata": {},
   "outputs": [
    {
     "data": {
      "text/plain": [
       "'solving equations for X:'"
      ]
     },
     "metadata": {},
     "output_type": "display_data"
    },
    {
     "data": {
      "text/latex": [
       "$\\displaystyle 4 x - 6 = 0 \\quad \\Rightarrow \\quad X = \\left[ \\frac{3}{2}\\right]$"
      ],
      "text/plain": [
       "<IPython.core.display.Math object>"
      ]
     },
     "metadata": {},
     "output_type": "display_data"
    },
    {
     "data": {
      "text/latex": [
       "$\\displaystyle x^{2} - 9 = 0 \\quad \\Rightarrow \\quad X = \\left[ -3, \\  3\\right]$"
      ],
      "text/plain": [
       "<IPython.core.display.Math object>"
      ]
     },
     "metadata": {},
     "output_type": "display_data"
    },
    {
     "data": {
      "text/plain": [
       "'solving equations for Y:'"
      ]
     },
     "metadata": {},
     "output_type": "display_data"
    },
    {
     "data": {
      "text/latex": [
       "$\\displaystyle \\sin{\\left(y \\right)} = 0 \\quad \\Rightarrow \\quad Y = \\left[ 0, \\  \\pi\\right]$"
      ],
      "text/plain": [
       "<IPython.core.display.Math object>"
      ]
     },
     "metadata": {},
     "output_type": "display_data"
    }
   ],
   "source": [
    "x, y = sym.symbols(\"x,y\")\n",
    "\n",
    "#exercise with different equations held in a dict\n",
    "my_eqs = dict()\n",
    "eq_1 = 4* x -6\n",
    "eq_2 = x**2 -9 \n",
    "eq_3 = sym.sin(y)\n",
    "\n",
    "my_eqs[\"X\"] = list([eq_1,eq_2])\n",
    "my_eqs[\"Y\"] = list([eq_3])\n",
    "\n",
    "for key in my_eqs:\n",
    "    display(f\"solving equations for {key}:\")\n",
    "    for eq in my_eqs.get(key):\n",
    "      display(Math(\"%s = 0 \\\\quad \\\\Rightarrow \\\\quad %s = %s\"\n",
    "                   %(sym.latex(eq),key,sym.latex(sym.solve(eq)))))"
   ]
  },
  {
   "cell_type": "markdown",
   "id": "11602fc6",
   "metadata": {},
   "source": [
    "### Prime factorisation\n",
    "prime number is integer by itself and 1 \n",
    "2,3,5,7...\n",
    "\n",
    "Break down a number to its prime factors.\n",
    "\n",
    "8 = 2X2X2\n",
    "\n",
    "25 = 5X5"
   ]
  },
  {
   "cell_type": "code",
   "execution_count": 64,
   "id": "ee2eaaeb",
   "metadata": {},
   "outputs": [
    {
     "name": "stdout",
     "output_type": "stream",
     "text": [
      "factorisation of 78 is {2: 1, 3: 1, 13: 1}\n",
      "factorisation of 48 is {2: 4, 3: 1}\n",
      "the factor 2 occurs 2 times.\n",
      "the factor 37 occurs 1 times.\n"
     ]
    }
   ],
   "source": [
    "#function for prime factorisation of a number \n",
    "print(f\"factorisation of 78 is {sym.factorint(78)}\")\n",
    "print(f\"factorisation of 48 is {sym.factorint(48)}\")\n",
    "\n",
    "factor_dict = sym.factorint(148)\n",
    "\n",
    "for factor in factor_dict:\n",
    "    print(f\"the factor {factor} occurs {factor_dict.get(factor)} times.\")\n",
    "    "
   ]
  },
  {
   "cell_type": "code",
   "execution_count": 72,
   "id": "c54defc9",
   "metadata": {},
   "outputs": [
    {
     "name": "stdout",
     "output_type": "stream",
     "text": [
      "1 is a composite number, with prime factors []\n",
      "2 is a prime number\n",
      "3 is a prime number\n",
      "4 is a composite number, with prime factors [2]\n",
      "5 is a prime number\n",
      "6 is a composite number, with prime factors [2, 3]\n",
      "7 is a prime number\n",
      "8 is a composite number, with prime factors [2]\n",
      "9 is a composite number, with prime factors [3]\n",
      "10 is a composite number, with prime factors [2, 5]\n",
      "11 is a prime number\n",
      "12 is a composite number, with prime factors [2, 3]\n",
      "13 is a prime number\n",
      "14 is a composite number, with prime factors [2, 7]\n",
      "15 is a composite number, with prime factors [3, 5]\n",
      "16 is a composite number, with prime factors [2]\n",
      "17 is a prime number\n",
      "18 is a composite number, with prime factors [2, 3]\n",
      "19 is a prime number\n",
      "20 is a composite number, with prime factors [2, 5]\n",
      "21 is a composite number, with prime factors [3, 7]\n",
      "22 is a composite number, with prime factors [2, 11]\n",
      "23 is a prime number\n",
      "24 is a composite number, with prime factors [2, 3]\n",
      "25 is a composite number, with prime factors [5]\n",
      "26 is a composite number, with prime factors [2, 13]\n",
      "27 is a composite number, with prime factors [3]\n",
      "28 is a composite number, with prime factors [2, 7]\n",
      "29 is a prime number\n",
      "30 is a composite number, with prime factors [2, 3, 5]\n",
      "31 is a prime number\n",
      "32 is a composite number, with prime factors [2]\n",
      "33 is a composite number, with prime factors [3, 11]\n",
      "34 is a composite number, with prime factors [2, 17]\n",
      "35 is a composite number, with prime factors [5, 7]\n",
      "36 is a composite number, with prime factors [2, 3]\n",
      "37 is a prime number\n",
      "38 is a composite number, with prime factors [2, 19]\n",
      "39 is a composite number, with prime factors [3, 13]\n",
      "40 is a composite number, with prime factors [2, 5]\n",
      "41 is a prime number\n",
      "42 is a composite number, with prime factors [2, 3, 7]\n",
      "43 is a prime number\n",
      "44 is a composite number, with prime factors [2, 11]\n",
      "45 is a composite number, with prime factors [3, 5]\n",
      "46 is a composite number, with prime factors [2, 23]\n",
      "47 is a prime number\n",
      "48 is a composite number, with prime factors [2, 3]\n",
      "49 is a composite number, with prime factors [7]\n",
      "50 is a composite number, with prime factors [2, 5]\n"
     ]
    }
   ],
   "source": [
    "#exercise - finding primes in first 50 numbers\n",
    "for num in range(1,51) :\n",
    "    factors = sym.factorint(num)\n",
    "    #print(f\"factors are {factors}\")\n",
    "    if len(factors) == 1 and factors[list(factors.keys())[0]] == 1 :\n",
    "        print(f\"{num} is a prime number\")\n",
    "    else:\n",
    "        print(f\"{num} is a composite number, with prime factors {list(factors.keys())}\")"
   ]
  },
  {
   "cell_type": "markdown",
   "id": "e9975541",
   "metadata": {},
   "source": [
    "### inequalities\n",
    "\n",
    "4x > 8\n",
    "\n",
    "x >2\n",
    "\n",
    "In this case:\n",
    "\n",
    "(x -1)(x+3) > 0\n",
    "\n",
    "when \n",
    "\n",
    "(x>1) this will lead to a positive result (>0)\n",
    "\n",
    "or when\n",
    "\n",
    "(x<-3) this will lead to a positive result (>0)\n"
   ]
  },
  {
   "cell_type": "code",
   "execution_count": 89,
   "id": "942fa833",
   "metadata": {},
   "outputs": [
    {
     "data": {
      "text/latex": [
       "$\\displaystyle \\frac{2}{3} < x \\wedge x < \\infty$"
      ],
      "text/plain": [
       "<IPython.core.display.Math object>"
      ]
     },
     "metadata": {},
     "output_type": "display_data"
    }
   ],
   "source": [
    "expr = 12 * x > 8\n",
    "display(Math(sym.latex(sym.solve(expr))))\n"
   ]
  },
  {
   "cell_type": "code",
   "execution_count": 81,
   "id": "afbc6cc6",
   "metadata": {},
   "outputs": [
    {
     "data": {
      "text/latex": [
       "$\\displaystyle \\left(-\\infty < x \\wedge x < -3\\right) \\vee \\left(1 < x \\wedge x < \\infty\\right)$"
      ],
      "text/plain": [
       "<IPython.core.display.Math object>"
      ]
     },
     "metadata": {},
     "output_type": "display_data"
    }
   ],
   "source": [
    "expr = (x -1)*(x+3) > 0\n",
    "display(Math(sym.latex(sym.solve(expr))))\n"
   ]
  },
  {
   "cell_type": "markdown",
   "id": "87b23efb",
   "metadata": {},
   "source": [
    "### adding/multiple polynomials\n",
    "\n",
    "$$ a_0 + a_1x+ a_2x^2 + ... a_nx^n $$\n",
    "\n",
    "Whatever value 'n' is, is called the order/degree of the polynomial.\n",
    "\n",
    "To add polynomials you look for the terms with the same power and add them.\n",
    "\n",
    "\n"
   ]
  },
  {
   "cell_type": "code",
   "execution_count": 87,
   "id": "915abba4",
   "metadata": {},
   "outputs": [
    {
     "data": {
      "text/latex": [
       "$\\displaystyle 2 x^{3} + 7 x^{2} - x$"
      ],
      "text/plain": [
       "   3      2    \n",
       "2⋅x  + 7⋅x  - x"
      ]
     },
     "metadata": {},
     "output_type": "display_data"
    },
    {
     "data": {
      "text/latex": [
       "$\\displaystyle - 5 x^{4} + x^{3} - 4 x^{2}$"
      ],
      "text/plain": [
       "     4    3      2\n",
       "- 5⋅x  + x  - 4⋅x "
      ]
     },
     "metadata": {},
     "output_type": "display_data"
    },
    {
     "data": {
      "text/latex": [
       "$\\displaystyle - 5 x^{4} + 3 x^{3} + 3 x^{2} - x$"
      ],
      "text/plain": [
       "     4      3      2    \n",
       "- 5⋅x  + 3⋅x  + 3⋅x  - x"
      ]
     },
     "metadata": {},
     "output_type": "display_data"
    }
   ],
   "source": [
    "p1 = 2*x**3 + 7*x**2 -x\n",
    "p2 = x**3 - 5*x**4 -4*x**2\n",
    "\n",
    "display(p1)\n",
    "display(p2)\n",
    "display(p1 + p2)\n",
    " "
   ]
  },
  {
   "cell_type": "code",
   "execution_count": 121,
   "id": "7f9ab640",
   "metadata": {},
   "outputs": [
    {
     "data": {
      "text/latex": [
       "$\\displaystyle 4 x^{3} + 2 x^{2} - x \\quad \\Rightarrow \\quad 38$"
      ],
      "text/plain": [
       "<IPython.core.display.Math object>"
      ]
     },
     "metadata": {},
     "output_type": "display_data"
    }
   ],
   "source": [
    "poly_3 = sym.Poly(4*x**3 + 2*x**2 -x )\n",
    "\n",
    "#evaluate the poly with a number for x\n",
    "display(Math('%s \\\\quad \\\\Rightarrow \\\\quad %g'\n",
    "             %(sym.latex(poly_3.as_expr()),poly_3.eval(2))))"
   ]
  },
  {
   "cell_type": "code",
   "execution_count": 133,
   "id": "fa23cc37",
   "metadata": {},
   "outputs": [
    {
     "data": {
      "text/latex": [
       "$\\displaystyle \\left[ 4, \\  2, \\  -1\\right]$"
      ],
      "text/plain": [
       "[4, 2, -1]"
      ]
     },
     "metadata": {},
     "output_type": "display_data"
    },
    {
     "data": {
      "text/latex": [
       "$\\displaystyle \\text {ploy_4 } \\quad 3 x^{4} + x^{2} \\quad \\text { is degree } 4 \\text { and has coefficients } [3, 1]$"
      ],
      "text/plain": [
       "<IPython.core.display.Math object>"
      ]
     },
     "metadata": {},
     "output_type": "display_data"
    }
   ],
   "source": [
    "#get the co-efficients\n",
    "#order of co-efficients - highest order term are first.\n",
    "display(poly_3.coeffs())\n",
    "\n",
    "poly_4 = sym.Poly(3*x**4+x**2)\n",
    "display(Math('\\\\text {ploy_4 } \\\\quad %s \\\\quad \\\\text { is degree } %g \\\\text { and has coefficients } %s'\n",
    "             % (sym.latex(poly_4.as_expr()), poly_4.degree(),poly_4.coeffs())) ) \n"
   ]
  },
  {
   "cell_type": "code",
   "execution_count": 137,
   "id": "f2111365",
   "metadata": {},
   "outputs": [
    {
     "data": {
      "text/latex": [
       "$\\displaystyle x^{4} + x^{2} + x$"
      ],
      "text/plain": [
       " 4    2    \n",
       "x  + x  + x"
      ]
     },
     "metadata": {},
     "output_type": "display_data"
    },
    {
     "data": {
      "text/latex": [
       "$\\displaystyle 3 x^{2} + x$"
      ],
      "text/plain": [
       "   2    \n",
       "3⋅x  + x"
      ]
     },
     "metadata": {},
     "output_type": "display_data"
    },
    {
     "data": {
      "text/latex": [
       "$\\displaystyle 3 x^{6} + x^{5} + 3 x^{4} + 4 x^{3} + x^{2}$"
      ],
      "text/plain": [
       "   6    5      4      3    2\n",
       "3⋅x  + x  + 3⋅x  + 4⋅x  + x "
      ]
     },
     "metadata": {},
     "output_type": "display_data"
    }
   ],
   "source": [
    "#multiply ploynomial and working with law of exponents\n",
    "poly_1 = sym.Poly( x**4 + x**2 + x)\n",
    "poly_2 = sym.Poly( 3*x**2 + x)\n",
    "display(poly_1.as_expr())\n",
    "display(poly_2.as_expr())\n",
    "display((poly_1 * poly_2).as_expr())"
   ]
  },
  {
   "cell_type": "code",
   "execution_count": 143,
   "id": "40a8b312",
   "metadata": {},
   "outputs": [
    {
     "name": "stdout",
     "output_type": "stream",
     "text": [
      "evaluted and then multi is -1085833.80000000\n",
      "multi first -1085833.80000000\n"
     ]
    }
   ],
   "source": [
    "f_x_y = sym.Poly(4*x**4 - 3*x**2 + x*y**2 -9*y**3)\n",
    "g_x_y = sym.Poly(-x**3 + 6*x**2*y + 0.8*y**3)\n",
    "\n",
    "f_x_y.eval({x:5,y:-2})\n",
    "g_x_y.eval({x:5,y:-2})\n",
    "\n",
    "ans = f_x_y * g_x_y\n",
    "\n",
    "print(f\"evaluted and then multi is {f_x_y.eval({x:5,y:-2})*g_x_y.eval({x:5,y:-2})}\")\n",
    "print(f\"multi first {ans.eval({x:5,y:-2})}\" )"
   ]
  },
  {
   "cell_type": "markdown",
   "id": "cbee71fa",
   "metadata": {},
   "source": [
    "### dividing polynomials\n"
   ]
  },
  {
   "cell_type": "code",
   "execution_count": 150,
   "id": "f76fe612",
   "metadata": {},
   "outputs": [
    {
     "data": {
      "text/latex": [
       "$\\displaystyle \\frac{4 x^{5} - x}{2 x^{3} - x}$"
      ],
      "text/plain": [
       "   5    \n",
       "4⋅x  - x\n",
       "────────\n",
       "   3    \n",
       "2⋅x  - x"
      ]
     },
     "metadata": {},
     "output_type": "display_data"
    },
    {
     "data": {
      "text/latex": [
       "$\\displaystyle \\frac{4 x^{5}}{2 x^{3} - x} - \\frac{x}{2 x^{3} - x}$"
      ],
      "text/plain": [
       "     5             \n",
       "  4⋅x         x    \n",
       "──────── - ────────\n",
       "   3          3    \n",
       "2⋅x  - x   2⋅x  - x"
      ]
     },
     "metadata": {},
     "output_type": "display_data"
    },
    {
     "data": {
      "text/latex": [
       "$\\displaystyle 2 x^{2} + 1$"
      ],
      "text/plain": [
       "   2    \n",
       "2⋅x  + 1"
      ]
     },
     "metadata": {},
     "output_type": "display_data"
    }
   ],
   "source": [
    "poly_1 = 4*x**5 -x\n",
    "poly_2 = 2*x**3 -x\n",
    "\n",
    "display(poly_1 / poly_2)\n",
    "display(sym.expand(poly_1 / poly_2))\n",
    "# actually do the division.\n",
    "display(sym.simplify(poly_1 / poly_2))\n"
   ]
  },
  {
   "cell_type": "markdown",
   "id": "55e6c4b8",
   "metadata": {},
   "source": [
    "### check for fraction"
   ]
  },
  {
   "cell_type": "code",
   "execution_count": 160,
   "id": "858aaa76",
   "metadata": {},
   "outputs": [
    {
     "data": {
      "text/latex": [
       "$\\displaystyle \\frac{3}{4}$"
      ],
      "text/plain": [
       "3/4"
      ]
     },
     "metadata": {},
     "output_type": "display_data"
    },
    {
     "name": "stdout",
     "output_type": "stream",
     "text": [
      "(3, 4)\n"
     ]
    },
    {
     "data": {
      "text/latex": [
       "$\\displaystyle 1$"
      ],
      "text/plain": [
       "1"
      ]
     },
     "metadata": {},
     "output_type": "display_data"
    },
    {
     "name": "stdout",
     "output_type": "stream",
     "text": [
      "(1, 1)\n",
      "1\n"
     ]
    }
   ],
   "source": [
    "#just nominator needs to be symbol otherwise it does the calculation.\n",
    "my_f = sym.sympify(3)/4\n",
    "display(my_f)\n",
    "#the tuple from the fraction shows nominator and demomniator\n",
    "print(sym.fraction(my_f))\n",
    "\n",
    "\n",
    "\n",
    "my_f = sym.sympify(4)/4\n",
    "display(my_f)\n",
    "# if the denomimator in generated tuple is 1 (last element) then it a whole number.\n",
    "print(sym.fraction(my_f))\n",
    "print(sym.fraction(my_f)[1])"
   ]
  },
  {
   "cell_type": "markdown",
   "id": "f7c3a989",
   "metadata": {},
   "source": [
    "### factoring ploynomials\n",
    "$$ x^2 + 7x + 10 = (x+2)(x+5) $$\n",
    "\n",
    "To factor a polynomial is to write it as \"multiplication\". This can be useful for fractions so terms can be simplified. \n",
    "\n",
    "\n"
   ]
  },
  {
   "cell_type": "code",
   "execution_count": 164,
   "id": "acf87361",
   "metadata": {},
   "outputs": [
    {
     "data": {
      "text/latex": [
       "$\\displaystyle \\left(x + 2\\right) \\left(x + 5\\right)$"
      ],
      "text/plain": [
       "(x + 2)⋅(x + 5)"
      ]
     },
     "metadata": {},
     "output_type": "display_data"
    }
   ],
   "source": [
    "poly_1 = x**2 +7*x + 10\n",
    "#if factoring is not possible it will return the same results.\n",
    "display(sym.factor(poly_1))"
   ]
  },
  {
   "cell_type": "code",
   "execution_count": 165,
   "id": "4500b20c",
   "metadata": {},
   "outputs": [
    {
     "data": {
      "text/latex": [
       "$\\displaystyle 2 x^{2} - 1$"
      ],
      "text/plain": [
       "   2    \n",
       "2⋅x  - 1"
      ]
     },
     "metadata": {},
     "output_type": "display_data"
    }
   ],
   "source": [
    "poly_2 = 2*x**2 -1\n",
    "#not factorable\n",
    "display(sym.factor(poly_2))\n"
   ]
  },
  {
   "cell_type": "code",
   "execution_count": 166,
   "id": "c2769669",
   "metadata": {},
   "outputs": [
    {
     "data": {
      "text/latex": [
       "$\\displaystyle 3 y \\left(y + 4\\right)$"
      ],
      "text/plain": [
       "3⋅y⋅(y + 4)"
      ]
     },
     "metadata": {},
     "output_type": "display_data"
    }
   ],
   "source": [
    "poly_3 = 3*y**2 + 12*y\n",
    "display(sym.factor(poly_3))"
   ]
  },
  {
   "cell_type": "code",
   "execution_count": 174,
   "id": "4e6790f4",
   "metadata": {},
   "outputs": [
    {
     "data": {
      "image/png": "[encoded data removed]",
      "text/latex": [
       "$\\displaystyle \\frac{\\left(2 x^{2} + 1\\right)^{2} + \\left(3 x^{3} + 2\\right)^{2}}{3 x^{3} + 2}$"
      ],
      "text/plain": [
       "          2             2\n",
       "⎛   2    ⎞    ⎛   3    ⎞ \n",
       "⎝2⋅x  + 1⎠  + ⎝3⋅x  + 2⎠ \n",
       "─────────────────────────\n",
       "            3            \n",
       "         3⋅x  + 2        "
      ]
     },
     "metadata": {},
     "output_type": "display_data"
    },
    {
     "data": {
      "image/png": "[encoded data removed]",
      "text/latex": [
       "$\\displaystyle \\frac{9 x^{6}}{3 x^{3} + 2} + \\frac{4 x^{4}}{3 x^{3} + 2} + \\frac{12 x^{3}}{3 x^{3} + 2} + \\frac{4 x^{2}}{3 x^{3} + 2} + \\frac{5}{3 x^{3} + 2}$"
      ],
      "text/plain": [
       "     6          4          3          2             \n",
       "  9⋅x        4⋅x       12⋅x        4⋅x         5    \n",
       "──────── + ──────── + ──────── + ──────── + ────────\n",
       "   3          3          3          3          3    \n",
       "3⋅x  + 2   3⋅x  + 2   3⋅x  + 2   3⋅x  + 2   3⋅x  + 2"
      ]
     },
     "metadata": {},
     "output_type": "display_data"
    }
   ],
   "source": [
    "y1 = 2*x**2 + 1\n",
    "y2 = 3*x**3 + 2\n",
    "\n",
    "expr = (y1 **2 + y2**2)/y2\n",
    "display(sym.sympify(expr))\n",
    "display(sym.expand(expr))\n"
   ]
  },
  {
   "cell_type": "code",
   "execution_count": 172,
   "id": "847251c9",
   "metadata": {},
   "outputs": [
    {
     "data": {
      "image/png": "[encoded data removed]",
      "text/latex": [
       "$\\displaystyle \\left[ - \\frac{\\sqrt[3]{2} \\cdot 3^{\\frac{2}{3}}}{3}, \\  \\frac{\\sqrt[3]{2} \\cdot 3^{\\frac{2}{3}}}{6} - \\frac{\\sqrt[3]{2} \\cdot \\sqrt[6]{3} i}{2}, \\  \\frac{\\sqrt[3]{2} \\cdot 3^{\\frac{2}{3}}}{6} + \\frac{\\sqrt[3]{2} \\cdot \\sqrt[6]{3} i}{2}\\right]$"
      ],
      "text/plain": [
       "⎡ 3 ___  2/3   3 ___  2/3   3 ___ 6 ___    3 ___  2/3   3 ___ 6 ___  ⎤\n",
       "⎢-╲╱ 2 ⋅3      ╲╱ 2 ⋅3      ╲╱ 2 ⋅╲╱ 3 ⋅ⅈ  ╲╱ 2 ⋅3      ╲╱ 2 ⋅╲╱ 3 ⋅ⅈ⎥\n",
       "⎢────────────, ────────── - ─────────────, ────────── + ─────────────⎥\n",
       "⎣     3            6              2            6              2      ⎦"
      ]
     },
     "execution_count": 172,
     "metadata": {},
     "output_type": "execute_result"
    }
   ],
   "source": [
    "sym.solve(y2)"
   ]
  },
  {
   "cell_type": "code",
   "execution_count": 176,
   "id": "0dcc7440",
   "metadata": {},
   "outputs": [
    {
     "data": {
      "image/png": "[encoded data removed]",
      "text/latex": [
       "$\\displaystyle \\left[ -1\\right]$"
      ],
      "text/plain": [
       "[-1]"
      ]
     },
     "metadata": {},
     "output_type": "display_data"
    }
   ],
   "source": [
    "y3 = 2*x**2 + 4*x +2\n",
    "display(sym.solve(y3))"
   ]
  },
  {
   "cell_type": "code",
   "execution_count": 177,
   "id": "452d0263",
   "metadata": {},
   "outputs": [
    {
     "data": {
      "image/png": "[encoded data removed]",
      "text/latex": [
       "$\\displaystyle \\left[ -2, \\  - \\frac{1}{2}\\right]$"
      ],
      "text/plain": [
       "[-2, -1/2]"
      ]
     },
     "metadata": {},
     "output_type": "display_data"
    }
   ],
   "source": [
    "y3 = 2*x**2 + 5*x +2\n",
    "display(sym.solve(y3))"
   ]
  }
 ],
 "metadata": {
  "kernelspec": {
   "display_name": "Python 3 (ipykernel)",
   "language": "python",
   "name": "python3"
  },
  "language_info": {
   "codemirror_mode": {
    "name": "ipython",
    "version": 3
   },
   "file_extension": ".py",
   "mimetype": "text/x-python",
   "name": "python",
   "nbconvert_exporter": "python",
   "pygments_lexer": "ipython3",
   "version": "3.9.10"
  },
  "toc": {
   "base_numbering": 1,
   "nav_menu": {},
   "number_sections": true,
   "sideBar": true,
   "skip_h1_title": true,
   "title_cell": "Table of Contents",
   "title_sidebar": "Contents",
   "toc_cell": true,
   "toc_position": {},
   "toc_section_display": true,
   "toc_window_display": false
  }
 },
 "nbformat": 4,
 "nbformat_minor": 5
}

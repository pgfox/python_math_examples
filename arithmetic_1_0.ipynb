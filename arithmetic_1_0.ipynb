{
 "cells": [
  {
   "cell_type": "markdown",
   "metadata": {
    "toc": true
   },
   "source": [
    "<h1>Table of Contents<span class=\"tocSkip\"></span></h1>\n",
    "<div class=\"toc\"><ul class=\"toc-item\"><li><span><a href=\"#Booleans\" data-toc-modified-id=\"Booleans-1\"><span class=\"toc-item-num\">1&nbsp;&nbsp;</span>Booleans</a></span></li><li><span><a href=\"#if-statements\" data-toc-modified-id=\"if-statements-2\"><span class=\"toc-item-num\">2&nbsp;&nbsp;</span>if statements</a></span></li><li><span><a href=\"#Absolute-value\" data-toc-modified-id=\"Absolute-value-3\"><span class=\"toc-item-num\">3&nbsp;&nbsp;</span>Absolute value</a></span></li><li><span><a href=\"#Modulus\" data-toc-modified-id=\"Modulus-4\"><span class=\"toc-item-num\">4&nbsp;&nbsp;</span>Modulus</a></span></li><li><span><a href=\"#Functions\" data-toc-modified-id=\"Functions-5\"><span class=\"toc-item-num\">5&nbsp;&nbsp;</span>Functions</a></span></li><li><span><a href=\"#floats-or-int\" data-toc-modified-id=\"floats-or-int-6\"><span class=\"toc-item-num\">6&nbsp;&nbsp;</span>floats or int</a></span></li></ul></div>"
   ]
  },
  {
   "cell_type": "code",
   "execution_count": 1,
   "metadata": {
    "execution": {
     "iopub.execute_input": "2022-06-05T20:42:48.366868Z",
     "iopub.status.busy": "2022-06-05T20:42:48.365729Z",
     "iopub.status.idle": "2022-06-05T20:42:48.381390Z",
     "shell.execute_reply": "2022-06-05T20:42:48.380367Z",
     "shell.execute_reply.started": "2022-06-05T20:42:48.366789Z"
    }
   },
   "outputs": [
    {
     "data": {
      "text/plain": [
       "'4 + 3 = 7'"
      ]
     },
     "metadata": {},
     "output_type": "display_data"
    },
    {
     "data": {
      "text/plain": [
       "'4 + 3 = 7'"
      ]
     },
     "metadata": {},
     "output_type": "display_data"
    },
    {
     "data": {
      "text/latex": [
       "$\\displaystyle 4x+5=9$"
      ],
      "text/plain": [
       "<IPython.core.display.Math object>"
      ]
     },
     "metadata": {},
     "output_type": "display_data"
    },
    {
     "data": {
      "text/latex": [
       "$\\displaystyle 5 + 6 = 11$"
      ],
      "text/plain": [
       "<IPython.core.display.Math object>"
      ]
     },
     "metadata": {},
     "output_type": "display_data"
    },
    {
     "data": {
      "text/plain": [
       "'5 + 6 = 11'"
      ]
     },
     "metadata": {},
     "output_type": "display_data"
    }
   ],
   "source": [
    "from IPython.display import display, Math\n",
    "display(\"4 + 3 = 7\")\n",
    "display(\"4 + 3 = \" + str(4+3))\n",
    "\n",
    "display(Math(\"4x+5=9\"))\n",
    "\n",
    "x= 5\n",
    "y= 6\n",
    "display(Math(f\"{x} + {y} = {x+y}\"))\n",
    "display(f\"{x} + {y} = {x+y}\")"
   ]
  },
  {
   "cell_type": "code",
   "execution_count": 2,
   "metadata": {
    "execution": {
     "iopub.execute_input": "2022-06-05T21:00:49.780821Z",
     "iopub.status.busy": "2022-06-05T21:00:49.780376Z",
     "iopub.status.idle": "2022-06-05T21:00:49.789896Z",
     "shell.execute_reply": "2022-06-05T21:00:49.788911Z",
     "shell.execute_reply.started": "2022-06-05T21:00:49.780769Z"
    }
   },
   "outputs": [
    {
     "data": {
      "text/latex": [
       "$\\displaystyle \\frac{4}{5} = .8$"
      ],
      "text/plain": [
       "<IPython.core.display.Math object>"
      ]
     },
     "metadata": {},
     "output_type": "display_data"
    },
    {
     "data": {
      "text/latex": [
       "$\\displaystyle 3.4 \\times 17 = 57.8 $"
      ],
      "text/plain": [
       "<IPython.core.display.Math object>"
      ]
     },
     "metadata": {},
     "output_type": "display_data"
    }
   ],
   "source": [
    "display(Math('\\\\frac{4}{5} = .8'))\n",
    "\n",
    "x = 3.4\n",
    "y = 17\n",
    "display(Math(f'{x} \\\\times {y} = {x*y} '))\n",
    "\n",
    "\n"
   ]
  },
  {
   "cell_type": "code",
   "execution_count": 3,
   "metadata": {
    "execution": {
     "iopub.execute_input": "2022-06-05T21:05:06.057121Z",
     "iopub.status.busy": "2022-06-05T21:05:06.056298Z",
     "iopub.status.idle": "2022-06-05T21:05:06.065581Z",
     "shell.execute_reply": "2022-06-05T21:05:06.064862Z",
     "shell.execute_reply.started": "2022-06-05T21:05:06.057081Z"
    }
   },
   "outputs": [
    {
     "data": {
      "text/latex": [
       "$\\displaystyle 3x(4+y)=42$"
      ],
      "text/plain": [
       "<IPython.core.display.Math object>"
      ]
     },
     "metadata": {},
     "output_type": "display_data"
    },
    {
     "data": {
      "text/latex": [
       "$\\displaystyle -7y - \\frac{x+3}{z}=0$"
      ],
      "text/plain": [
       "<IPython.core.display.Math object>"
      ]
     },
     "metadata": {},
     "output_type": "display_data"
    }
   ],
   "source": [
    "display(Math(f'3x(4+y)=42'))\n",
    "\n",
    "#frac using %g not to get mixed up with the f string\n",
    "display(Math('-%gy - \\\\frac{x+3}{z}=0' %(7)))\n"
   ]
  },
  {
   "cell_type": "code",
   "execution_count": null,
   "metadata": {},
   "outputs": [],
   "source": []
  },
  {
   "cell_type": "code",
   "execution_count": 4,
   "metadata": {
    "execution": {
     "iopub.execute_input": "2022-06-05T21:26:32.432726Z",
     "iopub.status.busy": "2022-06-05T21:26:32.431991Z",
     "iopub.status.idle": "2022-06-05T21:26:32.441467Z",
     "shell.execute_reply": "2022-06-05T21:26:32.440719Z",
     "shell.execute_reply.started": "2022-06-05T21:26:32.432694Z"
    }
   },
   "outputs": [
    {
     "data": {
      "text/plain": [
       "9"
      ]
     },
     "metadata": {},
     "output_type": "display_data"
    }
   ],
   "source": [
    "#3^2 does not work as a python\n",
    "display(3**2)\n",
    "\n"
   ]
  },
  {
   "cell_type": "code",
   "execution_count": null,
   "metadata": {},
   "outputs": [],
   "source": [
    "#bring number to a power\n",
    "print(3**2 * 3**4)\n",
    "# the same \n",
    "print(3**(2+4))"
   ]
  },
  {
   "cell_type": "code",
   "execution_count": null,
   "metadata": {},
   "outputs": [],
   "source": [
    "# one approach to square root \n",
    "print(16**(1/2))"
   ]
  },
  {
   "cell_type": "code",
   "execution_count": 5,
   "metadata": {},
   "outputs": [
    {
     "data": {
      "text/latex": [
       "$\\displaystyle x^2$"
      ],
      "text/plain": [
       "<IPython.core.display.Math object>"
      ]
     },
     "metadata": {},
     "output_type": "display_data"
    },
    {
     "data": {
      "text/latex": [
       "$\\displaystyle x_i$"
      ],
      "text/plain": [
       "<IPython.core.display.Math object>"
      ]
     },
     "metadata": {},
     "output_type": "display_data"
    },
    {
     "data": {
      "text/latex": [
       "$\\displaystyle 3^2 \\times 3^4 = 3^{2+4}$"
      ],
      "text/plain": [
       "<IPython.core.display.Math object>"
      ]
     },
     "metadata": {},
     "output_type": "display_data"
    }
   ],
   "source": [
    "#latex code\n",
    "display(Math('x^2'))\n",
    "display(Math('x_i'))\n",
    "\n",
    "display(Math('3^2 \\\\times 3^4 = 3^{2+4}'))\n"
   ]
  },
  {
   "cell_type": "code",
   "execution_count": 6,
   "metadata": {},
   "outputs": [
    {
     "data": {
      "text/latex": [
       "$\\displaystyle x^\\frac{3}{4} \\times 4^y = 3933.09$"
      ],
      "text/plain": [
       "<IPython.core.display.Math object>"
      ]
     },
     "metadata": {},
     "output_type": "display_data"
    }
   ],
   "source": [
    "x = 5\n",
    "y = 5.1\n",
    "\n",
    "display(Math(\"x^\\\\frac{3}{4} \\\\times 4^y = %g\" %(x**(3/4) * 4**y)))"
   ]
  },
  {
   "cell_type": "code",
   "execution_count": 7,
   "metadata": {},
   "outputs": [
    {
     "data": {
      "text/latex": [
       "$\\displaystyle \\frac{3^3}{x^y} = 0.00735558$"
      ],
      "text/plain": [
       "<IPython.core.display.Math object>"
      ]
     },
     "metadata": {},
     "output_type": "display_data"
    }
   ],
   "source": [
    "display(Math(\"\\\\frac{3^3}{x^y} = %g\" %(3**3 / x**y)))"
   ]
  },
  {
   "cell_type": "code",
   "execution_count": null,
   "metadata": {},
   "outputs": [],
   "source": [
    "display(Math(\"10^{x-4} = %g\" %(10**(x-4))))"
   ]
  },
  {
   "cell_type": "code",
   "execution_count": 8,
   "metadata": {},
   "outputs": [
    {
     "name": "stdout",
     "output_type": "stream",
     "text": [
      "1\n",
      "2\n",
      "3\n",
      "4\n"
     ]
    }
   ],
   "source": [
    "for  x in [1,2,3,4]:\n",
    "    print(x)"
   ]
  },
  {
   "cell_type": "code",
   "execution_count": null,
   "metadata": {},
   "outputs": [],
   "source": [
    "#range - upto but not including upper bound.\n",
    "my_list = list(range(1,4))\n",
    "print(my_list)\n",
    "\n",
    "for x in range(1,4):\n",
    "    print(x)"
   ]
  },
  {
   "cell_type": "code",
   "execution_count": null,
   "metadata": {},
   "outputs": [],
   "source": [
    "base = 3\n",
    "for i in range(0,10):\n",
    "    display(Math(f\"{base}^{i} = {base**i}\"))"
   ]
  },
  {
   "cell_type": "markdown",
   "metadata": {},
   "source": [
    "Please Excuse My Dear Aunt Sally."
   ]
  },
  {
   "cell_type": "code",
   "execution_count": null,
   "metadata": {},
   "outputs": [],
   "source": [
    "print(4 + 2 * 3 +5)\n",
    "print((4+2) * (3+5))"
   ]
  },
  {
   "cell_type": "markdown",
   "metadata": {},
   "source": [
    "### Booleans"
   ]
  },
  {
   "cell_type": "code",
   "execution_count": 9,
   "metadata": {},
   "outputs": [
    {
     "name": "stdout",
     "output_type": "stream",
     "text": [
      "<class 'bool'>\n",
      "is 4 greater than or equal to 5 False\n"
     ]
    }
   ],
   "source": [
    "my_bool = True\n",
    "print(type(my_bool))\n",
    "\n",
    "print(f\"is 4 greater than or equal to 5 {4 >= 5}\")"
   ]
  },
  {
   "cell_type": "code",
   "execution_count": 10,
   "metadata": {},
   "outputs": [
    {
     "name": "stdout",
     "output_type": "stream",
     "text": [
      "the answer is False\n"
     ]
    }
   ],
   "source": [
    "the_answer = 4 == 5\n",
    "print(f\"the answer is {the_answer}\")"
   ]
  },
  {
   "cell_type": "code",
   "execution_count": null,
   "metadata": {},
   "outputs": [],
   "source": [
    "x=2\n",
    "#x=5\n",
    "print( 4*x +3 < 17 - x^2)"
   ]
  },
  {
   "cell_type": "markdown",
   "metadata": {},
   "source": [
    "### if statements"
   ]
  },
  {
   "cell_type": "code",
   "execution_count": 11,
   "metadata": {},
   "outputs": [
    {
     "name": "stdout",
     "output_type": "stream",
     "text": [
      "x is greater than 10 and less then 20\n"
     ]
    }
   ],
   "source": [
    "#x = 22\n",
    "x = 15\n",
    "if x < 10:\n",
    "    print(\"x is less than 10\")\n",
    "elif x < 20:\n",
    "    print (\"x is greater than 10 and less then 20\")\n",
    "else:\n",
    "    print (\"x is greater than 20\")"
   ]
  },
  {
   "cell_type": "code",
   "execution_count": 12,
   "metadata": {},
   "outputs": [
    {
     "name": "stdout",
     "output_type": "stream",
     "text": [
      "both are true\n",
      "one is true from the two\n"
     ]
    }
   ],
   "source": [
    "if True and True:\n",
    "    print(\"both are true\")\n",
    "\n",
    "if True or False:\n",
    "    print(\"one is true from the two\")\n",
    " "
   ]
  },
  {
   "cell_type": "code",
   "execution_count": null,
   "metadata": {},
   "outputs": [],
   "source": [
    "\n",
    "for i in range(0,4):\n",
    "    for j in range (0,5):\n",
    "        if i>0 and j>0:\n",
    "            display(Math(\"%g^{-%g} = %g\"%(i,j, i**(-j))))"
   ]
  },
  {
   "cell_type": "markdown",
   "metadata": {},
   "source": [
    "**Note** %g is for printing out a number, %s is for printing out a \"string\". "
   ]
  },
  {
   "cell_type": "code",
   "execution_count": null,
   "metadata": {},
   "outputs": [],
   "source": [
    " # 2^-2 is 1/2 ^2 - so makes a fraction of the base.\n",
    " display(Math(\"%g^{-%g} = %g\"%(2,2, 2**(-2))))   \n",
    "\n",
    "# 2^ 0.5 is square root of 2 \n",
    " display(Math(\"%g^{%g} = %g\"%(2,1/2, 2**(1/2))))"
   ]
  },
  {
   "cell_type": "markdown",
   "metadata": {},
   "source": [
    "### Absolute value "
   ]
  },
  {
   "cell_type": "code",
   "execution_count": null,
   "metadata": {},
   "outputs": [],
   "source": [
    "print(f\" the absolute value of -4 is {abs(-4)}\")"
   ]
  },
  {
   "cell_type": "code",
   "execution_count": null,
   "metadata": {},
   "outputs": [],
   "source": [
    "display(Math(\"|-4| = %g\" %(abs(-4))))"
   ]
  },
  {
   "cell_type": "code",
   "execution_count": null,
   "metadata": {},
   "outputs": [],
   "source": [
    "my_list = [-4,6,-1,-18]\n",
    "for x in my_list:\n",
    "    display(Math(\"|%g| = %g\" %(x,abs(x))))"
   ]
  },
  {
   "cell_type": "markdown",
   "metadata": {},
   "source": [
    "### Modulus\n",
    "remainder after integer devision"
   ]
  },
  {
   "cell_type": "code",
   "execution_count": 13,
   "metadata": {},
   "outputs": [
    {
     "name": "stdout",
     "output_type": "stream",
     "text": [
      "2.8333333333333335\n",
      "2\n",
      "modulus is 5\n"
     ]
    }
   ],
   "source": [
    "a= 17\n",
    "b= 6\n",
    "print(a/b)\n",
    "\n",
    "#integer divisionbb\n",
    "print(int(a/b))\n",
    "\n",
    "#modulus\n",
    "print(f\"modulus is {a%b}\")"
   ]
  },
  {
   "cell_type": "code",
   "execution_count": null,
   "metadata": {},
   "outputs": [],
   "source": [
    "for x in range(-5,6):\n",
    "    if x%2 == 0:\n",
    "        print(f\"{x} is an even number\")\n",
    "    else:\n",
    "        print(f\"{x} is an odd mumber\")"
   ]
  },
  {
   "cell_type": "markdown",
   "metadata": {},
   "source": [
    "### Functions"
   ]
  },
  {
   "cell_type": "code",
   "execution_count": null,
   "metadata": {},
   "outputs": [],
   "source": [
    "def my_function(input_1=\"test\",input_2=10):\n",
    "    print(f\"input_1 is {input_1} and input_2 is {input_2}\")\n",
    "    \n",
    "\n",
    "my_function()\n",
    "my_function(input_2=42)"
   ]
  },
  {
   "cell_type": "code",
   "execution_count": null,
   "metadata": {},
   "outputs": [],
   "source": [
    "my_input = input(\"input a number: \")\n",
    "print(f\"my_input is {my_input} and type of my_input is {type(my_input)}\")"
   ]
  },
  {
   "cell_type": "markdown",
   "metadata": {},
   "source": [
    "### floats or int"
   ]
  },
  {
   "cell_type": "code",
   "execution_count": 15,
   "metadata": {},
   "outputs": [
    {
     "name": "stdout",
     "output_type": "stream",
     "text": [
      "my test\n",
      "my_float has type of <class 'float'> and my_f is <class 'float'>\n"
     ]
    }
   ],
   "source": [
    "print(\"my test\")\n",
    "my_f = 1.2\n",
    "my_float = float(1.2)\n",
    "print(f\"my_float has type of {type(my_float)} and my_f is {type(my_f)}\")"
   ]
  },
  {
   "cell_type": "code",
   "execution_count": null,
   "metadata": {},
   "outputs": [],
   "source": [
    "import numpy as np\n",
    "\n",
    "def guess_the_number():\n",
    "    the_number = np.random.randint(0,100)\n",
    "    guess = int(input(\"guess a number(integer) between 0 and 100: \"))\n",
    "    while not guess == the_number:\n",
    "        if guess > the_number:\n",
    "            print(\"too high!\")\n",
    "        else:\n",
    "            print(\"too low!\")\n",
    "            \n",
    "        guess = int(input(\"guess again: \"))\n",
    "    \n",
    "    print(f\"BINGO, the number was {the_number}\")\n",
    "    \n",
    "guess_the_number()"
   ]
  }
 ],
 "metadata": {
  "kernelspec": {
   "display_name": "Python 3 (ipykernel)",
   "language": "python",
   "name": "python3"
  },
  "language_info": {
   "codemirror_mode": {
    "name": "ipython",
    "version": 3
   },
   "file_extension": ".py",
   "mimetype": "text/x-python",
   "name": "python",
   "nbconvert_exporter": "python",
   "pygments_lexer": "ipython3",
   "version": "3.9.10"
  },
  "toc": {
   "base_numbering": 1,
   "nav_menu": {},
   "number_sections": true,
   "sideBar": true,
   "skip_h1_title": true,
   "title_cell": "Table of Contents",
   "title_sidebar": "Contents",
   "toc_cell": true,
   "toc_position": {},
   "toc_section_display": true,
   "toc_window_display": false
  }
 },
 "nbformat": 4,
 "nbformat_minor": 4
}

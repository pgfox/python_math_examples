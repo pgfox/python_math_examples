{
 "cells": [
  {
   "cell_type": "markdown",
   "id": "c9865702",
   "metadata": {
    "toc": true
   },
   "source": [
    "<h1>Table of Contents<span class=\"tocSkip\"></span></h1>\n",
    "<div class=\"toc\"><ul class=\"toc-item\"><li><span><a href=\"#sympy\" data-toc-modified-id=\"sympy-1\"><span class=\"toc-item-num\">1&nbsp;&nbsp;</span>sympy</a></span></li><li><span><a href=\"#LaTeX-coding\" data-toc-modified-id=\"LaTeX-coding-2\"><span class=\"toc-item-num\">2&nbsp;&nbsp;</span>LaTeX coding</a></span></li><li><span><a href=\"#using-special-variable-names\" data-toc-modified-id=\"using-special-variable-names-3\"><span class=\"toc-item-num\">3&nbsp;&nbsp;</span>using special variable names</a></span></li><li><span><a href=\"#subsituting-variables\" data-toc-modified-id=\"subsituting-variables-4\"><span class=\"toc-item-num\">4&nbsp;&nbsp;</span>subsituting variables</a></span></li><li><span><a href=\"#getting-the-latex-code\" data-toc-modified-id=\"getting-the-latex-code-5\"><span class=\"toc-item-num\">5&nbsp;&nbsp;</span>getting the latex code</a></span></li><li><span><a href=\"#law-of-exponents\" data-toc-modified-id=\"law-of-exponents-6\"><span class=\"toc-item-num\">6&nbsp;&nbsp;</span>law of exponents</a></span></li></ul></div>"
   ]
  },
  {
   "cell_type": "markdown",
   "id": "62b48e2d",
   "metadata": {},
   "source": [
    "### sympy"
   ]
  },
  {
   "cell_type": "code",
   "execution_count": 2,
   "id": "307735f6",
   "metadata": {},
   "outputs": [
    {
     "data": {
      "text/latex": [
       "$\\displaystyle x$"
      ],
      "text/plain": [
       "x"
      ]
     },
     "metadata": {},
     "output_type": "display_data"
    },
    {
     "data": {
      "text/latex": [
       "$\\displaystyle x^{y}$"
      ],
      "text/plain": [
       " y\n",
       "x "
      ]
     },
     "metadata": {},
     "output_type": "display_data"
    },
    {
     "data": {
      "text/latex": [
       "$\\displaystyle \\frac{x}{y}$"
      ],
      "text/plain": [
       "x\n",
       "─\n",
       "y"
      ]
     },
     "metadata": {},
     "output_type": "display_data"
    }
   ],
   "source": [
    "from IPython.display import display, Math\n",
    "import sympy as sym\n",
    "import numpy as np\n",
    "\n",
    "sym.init_printing()\n",
    "\n",
    "x,y = sym.symbols('x,y')\n",
    "display(x)\n",
    "display(x**y)\n",
    "display(x/y)\n",
    "\n"
   ]
  },
  {
   "cell_type": "code",
   "execution_count": null,
   "id": "b67e861c",
   "metadata": {},
   "outputs": [],
   "source": [
    "#analytical estimate\n",
    "display(np.sqrt(2))\n"
   ]
  },
  {
   "cell_type": "code",
   "execution_count": null,
   "id": "c80e45b1",
   "metadata": {},
   "outputs": [],
   "source": [
    "#symbolic represenation\n",
    "display(\"symbolic output\",sym.sqrt(2))\n",
    "print(sym.sqrt(2))\n"
   ]
  },
  {
   "cell_type": "code",
   "execution_count": null,
   "id": "1f4fadd0",
   "metadata": {},
   "outputs": [],
   "source": [
    "display(Math(\"y\\\\times x^{2}\"))"
   ]
  },
  {
   "cell_type": "code",
   "execution_count": 6,
   "id": "bd979fdc",
   "metadata": {},
   "outputs": [
    {
     "data": {
      "text/latex": [
       "$\\displaystyle \\sqrt{17}$"
      ],
      "text/plain": [
       "√17"
      ]
     },
     "metadata": {},
     "output_type": "display_data"
    },
    {
     "data": {
      "text/latex": [
       "$\\displaystyle 2$"
      ],
      "text/plain": [
       "2"
      ]
     },
     "metadata": {},
     "output_type": "display_data"
    }
   ],
   "source": [
    "display(sym.sqrt(17))\n",
    "display(sym.sqrt(4))"
   ]
  },
  {
   "cell_type": "code",
   "execution_count": 5,
   "id": "0386cf07",
   "metadata": {},
   "outputs": [
    {
     "data": {
      "text/latex": [
       "$\\displaystyle x$"
      ],
      "text/plain": [
       "x"
      ]
     },
     "metadata": {},
     "output_type": "display_data"
    }
   ],
   "source": [
    "display(sym.sqrt(x)*sym.sqrt(x))"
   ]
  },
  {
   "cell_type": "markdown",
   "id": "8dd0ed9b",
   "metadata": {},
   "source": [
    "So display() function will try to evaluate the operation and print the answer. When that is not possible in the case of sqrt(17) it printed the symbolic term.\n",
    "\n",
    "To print out the symbolic you will need to display() and LaTeX coding.\n"
   ]
  },
  {
   "cell_type": "markdown",
   "id": "cedbd7a2",
   "metadata": {},
   "source": [
    "### LaTeX coding\n",
    "\n",
    "\n"
   ]
  },
  {
   "cell_type": "code",
   "execution_count": 9,
   "id": "c417f067",
   "metadata": {},
   "outputs": [
    {
     "data": {
      "text/latex": [
       "$\\displaystyle 4+3 = 7$"
      ],
      "text/plain": [
       "<IPython.core.display.Math object>"
      ]
     },
     "metadata": {},
     "output_type": "display_data"
    }
   ],
   "source": [
    "# in the Math() string - it does not evaluate anything\n",
    "display(Math('4+3 = 7'))"
   ]
  },
  {
   "cell_type": "code",
   "execution_count": 7,
   "id": "50b8feed",
   "metadata": {},
   "outputs": [
    {
     "data": {
      "text/latex": [
       "$\\displaystyle \\sigma$"
      ],
      "text/plain": [
       "<IPython.core.display.Math object>"
      ]
     },
     "metadata": {},
     "output_type": "display_data"
    },
    {
     "data": {
      "text/latex": [
       "$\\displaystyle \\Sigma$"
      ],
      "text/plain": [
       "<IPython.core.display.Math object>"
      ]
     },
     "metadata": {},
     "output_type": "display_data"
    },
    {
     "data": {
      "text/latex": [
       "$\\displaystyle \\sigma^2$"
      ],
      "text/plain": [
       "<IPython.core.display.Math object>"
      ]
     },
     "metadata": {},
     "output_type": "display_data"
    }
   ],
   "source": [
    "display(Math('\\\\sigma'))\n",
    "display(Math('\\\\Sigma'))\n",
    "display(Math('\\\\sigma^2'))"
   ]
  },
  {
   "cell_type": "code",
   "execution_count": 10,
   "id": "a65e4597",
   "metadata": {},
   "outputs": [
    {
     "data": {
      "text/latex": [
       "$\\displaystyle \\sigma = \\mu \\times \\sqrt{5 + 3x}$"
      ],
      "text/plain": [
       "<IPython.core.display.Math object>"
      ]
     },
     "metadata": {},
     "output_type": "display_data"
    }
   ],
   "source": [
    "#LaTeX code that goes inside the Math function -which returns ?something? that can be displayed. \n",
    "\n",
    "\n",
    "display(Math('\\\\sigma = \\\\mu \\\\times \\\\sqrt{5 + 3x}'))"
   ]
  },
  {
   "cell_type": "code",
   "execution_count": 12,
   "id": "4efe54ff",
   "metadata": {},
   "outputs": [
    {
     "data": {
      "text/latex": [
       "$\\displaystyle x_{ij} + y^{nm+x}$"
      ],
      "text/plain": [
       "<IPython.core.display.Math object>"
      ]
     },
     "metadata": {},
     "output_type": "display_data"
    }
   ],
   "source": [
    "# subscript and superscript\n",
    "display(Math(\"x_{ij} + y^{nm+x}\"))"
   ]
  },
  {
   "cell_type": "code",
   "execution_count": 13,
   "id": "85fdc280",
   "metadata": {},
   "outputs": [
    {
     "data": {
      "text/latex": [
       "$\\displaystyle x \\frac{x^3}{2y^{x+2}}$"
      ],
      "text/plain": [
       "<IPython.core.display.Math object>"
      ]
     },
     "metadata": {},
     "output_type": "display_data"
    }
   ],
   "source": [
    "display(Math(\"x \\\\frac{x^3}{2y^{x+2}}\"))"
   ]
  },
  {
   "cell_type": "code",
   "execution_count": 16,
   "id": "50590c97",
   "metadata": {},
   "outputs": [
    {
     "data": {
      "text/latex": [
       "$\\displaystyle \\text{This is the answer: } x \\frac{x^3}{2y^{x+2}}$"
      ],
      "text/plain": [
       "<IPython.core.display.Math object>"
      ]
     },
     "metadata": {},
     "output_type": "display_data"
    }
   ],
   "source": [
    "#adding text to the LaTeX expression\n",
    "display(Math(\"\\\\text{This is the answer: } x \\\\frac{x^3}{2y^{x+2}}\"))"
   ]
  },
  {
   "cell_type": "markdown",
   "id": "8c41025d",
   "metadata": {},
   "source": [
    "So LaTeX can go in the Math() function and it can also be put directly into markdown\n",
    "$$ x \\frac{x^3}{2y^{x+2}}$$\n",
    "\n",
    "Note for real Latex in markdown you need only ONE slash - in Math you need two slashes\n",
    "\n",
    "You can also get the equation on the same line (using one dollar sign)      $ x \\frac{x^3}{2y^{x+2}}$\n"
   ]
  },
  {
   "cell_type": "code",
   "execution_count": 17,
   "id": "92f94e18",
   "metadata": {},
   "outputs": [
    {
     "data": {
      "text/latex": [
       "$\\displaystyle \\sin(2\\pi x)$"
      ],
      "text/plain": [
       "<IPython.core.display.Math object>"
      ]
     },
     "metadata": {},
     "output_type": "display_data"
    }
   ],
   "source": [
    "#sin and pi\n",
    "display(Math(\"\\\\sin(2\\\\pi x)\"))"
   ]
  },
  {
   "cell_type": "code",
   "execution_count": 15,
   "id": "f7865546",
   "metadata": {},
   "outputs": [
    {
     "data": {
      "text/latex": [
       "$\\displaystyle e=mc^2$"
      ],
      "text/plain": [
       "<IPython.core.display.Math object>"
      ]
     },
     "metadata": {},
     "output_type": "display_data"
    }
   ],
   "source": [
    "display(Math(\"e=mc^2\"))"
   ]
  },
  {
   "cell_type": "markdown",
   "id": "50e5be22",
   "metadata": {},
   "source": [
    "You can also use LaTeX code directly in markdown text (but you only need 1 backslash\n",
    "=>   $\\sin(2\\pi x)$\n",
    "\n",
    "Note: In LaTeX additional spaces are ignored."
   ]
  },
  {
   "cell_type": "markdown",
   "id": "efb900c7",
   "metadata": {},
   "source": [
    "### using special variable names"
   ]
  },
  {
   "cell_type": "code",
   "execution_count": 24,
   "id": "77d1fca1",
   "metadata": {},
   "outputs": [
    {
     "data": {
      "text/latex": [
       "$\\displaystyle e^{\\frac{\\left(- \\alpha + \\mu\\right)^{2}}{2 \\sigma^{2}}}$"
      ],
      "text/plain": [
       "         2\n",
       " (-α + μ) \n",
       " ─────────\n",
       "       2  \n",
       "    2⋅σ   \n",
       "ℯ         "
      ]
     },
     "metadata": {},
     "output_type": "display_data"
    }
   ],
   "source": [
    "mu,alpha, sigma = sym.symbols('mu,alpha,sigma')\n",
    "display(sym.exp((mu-alpha)**2/(2*sigma**2)))"
   ]
  },
  {
   "cell_type": "code",
   "execution_count": 31,
   "id": "e199747c",
   "metadata": {},
   "outputs": [
    {
     "data": {
      "text/latex": [
       "$\\displaystyle me + you$"
      ],
      "text/plain": [
       "me + you"
      ]
     },
     "metadata": {},
     "output_type": "display_data"
    },
    {
     "data": {
      "text/latex": [
       "$\\displaystyle you + 1$"
      ],
      "text/plain": [
       "you + 1"
      ]
     },
     "metadata": {},
     "output_type": "display_data"
    },
    {
     "data": {
      "text/latex": [
       "$\\displaystyle 3$"
      ],
      "text/plain": [
       "3"
      ]
     },
     "metadata": {},
     "output_type": "display_data"
    }
   ],
   "source": [
    "me,you = sym.symbols('me,you')\n",
    "display(me + you)\n",
    "me=1\n",
    "display(me + you)\n",
    "you=2\n",
    "display(me + you)"
   ]
  },
  {
   "cell_type": "markdown",
   "id": "aef2c787",
   "metadata": {},
   "source": [
    "### subsituting variables"
   ]
  },
  {
   "cell_type": "code",
   "execution_count": 44,
   "id": "84eb63c9",
   "metadata": {},
   "outputs": [
    {
     "data": {
      "text/latex": [
       "$\\displaystyle \\beta + 1$"
      ],
      "text/plain": [
       "β + 1"
      ]
     },
     "metadata": {},
     "output_type": "display_data"
    },
    {
     "data": {
      "text/latex": [
       "$\\displaystyle 1.2$"
      ],
      "text/plain": [
       "1.2"
      ]
     },
     "metadata": {},
     "output_type": "display_data"
    },
    {
     "data": {
      "text/latex": [
       "$\\displaystyle 0.2+1$"
      ],
      "text/plain": [
       "<IPython.core.display.Math object>"
      ]
     },
     "metadata": {},
     "output_type": "display_data"
    }
   ],
   "source": [
    "beta = sym.symbols('beta')\n",
    "display(beta + 1)\n",
    "beta = 0.2\n",
    "display(beta+1)\n",
    "#math does not evaluate - but it does print\n",
    "display(Math('%g+1' %(beta)))"
   ]
  },
  {
   "cell_type": "code",
   "execution_count": 63,
   "id": "9c03fb2f",
   "metadata": {},
   "outputs": [
    {
     "data": {
      "text/latex": [
       "$\\displaystyle x + 4 y$"
      ],
      "text/plain": [
       "x + 4⋅y"
      ]
     },
     "metadata": {},
     "output_type": "display_data"
    },
    {
     "data": {
      "text/latex": [
       "$\\displaystyle 4 y + 6$"
      ],
      "text/plain": [
       "4⋅y + 6"
      ]
     },
     "metadata": {},
     "output_type": "display_data"
    },
    {
     "data": {
      "text/latex": [
       "$\\displaystyle 18$"
      ],
      "text/plain": [
       "18"
      ]
     },
     "metadata": {},
     "output_type": "display_data"
    },
    {
     "data": {
      "text/latex": [
       "$\\displaystyle 130$"
      ],
      "text/plain": [
       "130"
      ]
     },
     "metadata": {},
     "output_type": "display_data"
    }
   ],
   "source": [
    "x,y = sym.symbols('x,y')\n",
    "my_expr = x + 4*y\n",
    "display(my_expr)\n",
    "\n",
    "my_expr = my_expr.subs(x,6)\n",
    "display(my_expr)\n",
    "\n",
    "\n",
    "my_expr = my_expr.subs(y,3)\n",
    "display(my_expr)\n",
    "\n",
    "\n",
    "\n",
    "my_expr2 = x + 4*y\n",
    "my_expr2 = my_expr2.subs({x:10,y:30})\n",
    "display(my_expr2)\n"
   ]
  },
  {
   "cell_type": "markdown",
   "id": "d904940c",
   "metadata": {},
   "source": [
    "### getting the latex code"
   ]
  },
  {
   "cell_type": "code",
   "execution_count": 90,
   "id": "3d858e50",
   "metadata": {},
   "outputs": [
    {
     "data": {
      "text/latex": [
       "$\\displaystyle \\frac{1}{1 + e^{- y}}$"
      ],
      "text/plain": [
       "   1   \n",
       "───────\n",
       "     -y\n",
       "1 + ℯ  "
      ]
     },
     "metadata": {},
     "output_type": "display_data"
    },
    {
     "data": {
      "text/latex": [
       "$\\displaystyle \\frac{1}{1 + e^{- y}}$"
      ],
      "text/plain": [
       "<IPython.core.display.Math object>"
      ]
     },
     "metadata": {},
     "output_type": "display_data"
    },
    {
     "name": "stdout",
     "output_type": "stream",
     "text": [
      "1/(1 + exp(-y))\n"
     ]
    },
    {
     "data": {
      "text/latex": [
       "$\\displaystyle 0.998167061057507$"
      ],
      "text/plain": [
       "0.998167061057507"
      ]
     },
     "metadata": {},
     "output_type": "display_data"
    }
   ],
   "source": [
    "x,y = sym.symbols('x,y')\n",
    "my_expr = 1/(1+sym.exp(-y))\n",
    "display(my_expr)\n",
    "\n",
    "#sym.Latex converts from sympy expresson in Latex code - so it can be used in the Math \n",
    "#function\n",
    "display(Math(sym.latex(my_expr)))\n",
    "print(my_expr)\n",
    "\n",
    "my_expr_ans =  my_expr.subs(y,6.3)\n",
    "display(my_expr_ans)\n",
    "\n"
   ]
  },
  {
   "cell_type": "code",
   "execution_count": 95,
   "id": "29f6ddba",
   "metadata": {},
   "outputs": [
    {
     "name": "stdout",
     "output_type": "stream",
     "text": [
      "\\frac{3}{x}\n",
      "3/x\n"
     ]
    },
    {
     "data": {
      "text/latex": [
       "$\\displaystyle \\frac{3}{x}$"
      ],
      "text/plain": [
       "3\n",
       "─\n",
       "x"
      ]
     },
     "metadata": {},
     "output_type": "display_data"
    }
   ],
   "source": [
    "x = sym.symbols('x')\n",
    "expr_2 = 3/x\n",
    "print(sym.latex(expr_2))\n",
    "print(expr_2)\n",
    "display(expr_2)"
   ]
  },
  {
   "cell_type": "code",
   "execution_count": 99,
   "id": "e8472760",
   "metadata": {},
   "outputs": [
    {
     "data": {
      "text/latex": [
       "$\\displaystyle \\frac{3}{4}$"
      ],
      "text/plain": [
       "3/4"
      ]
     },
     "metadata": {},
     "output_type": "display_data"
    },
    {
     "data": {
      "text/plain": [
       "'\\\\frac{3}{4}'"
      ]
     },
     "metadata": {},
     "output_type": "display_data"
    }
   ],
   "source": [
    "# to get sympy expressions that do not include a sympy symbol\n",
    "sym_expr = sym.sympify('3/4')\n",
    "display(sym_expr)\n",
    "display(sym.latex(sym_expr))"
   ]
  },
  {
   "cell_type": "markdown",
   "id": "59e13016",
   "metadata": {},
   "source": [
    "This is that latex expression in markdown $\\frac{3}{4}$\n",
    "\n",
    "Note: quad is a large space."
   ]
  },
  {
   "cell_type": "code",
   "execution_count": 108,
   "id": "4d42a97a",
   "metadata": {},
   "outputs": [
    {
     "data": {
      "text/latex": [
       "$\\displaystyle \\text{with x = -2,} x^{2} + 4 \\quad \\Rightarrow \\quad -2^2+4=8$"
      ],
      "text/plain": [
       "<IPython.core.display.Math object>"
      ]
     },
     "metadata": {},
     "output_type": "display_data"
    },
    {
     "data": {
      "text/latex": [
       "$\\displaystyle \\text{with x = -1,} x^{2} + 4 \\quad \\Rightarrow \\quad -1^2+4=5$"
      ],
      "text/plain": [
       "<IPython.core.display.Math object>"
      ]
     },
     "metadata": {},
     "output_type": "display_data"
    },
    {
     "data": {
      "text/latex": [
       "$\\displaystyle \\text{with x = 0,} x^{2} + 4 \\quad \\Rightarrow \\quad 0^2+4=4$"
      ],
      "text/plain": [
       "<IPython.core.display.Math object>"
      ]
     },
     "metadata": {},
     "output_type": "display_data"
    },
    {
     "data": {
      "text/latex": [
       "$\\displaystyle \\text{with x = 1,} x^{2} + 4 \\quad \\Rightarrow \\quad 1^2+4=5$"
      ],
      "text/plain": [
       "<IPython.core.display.Math object>"
      ]
     },
     "metadata": {},
     "output_type": "display_data"
    },
    {
     "data": {
      "text/latex": [
       "$\\displaystyle \\text{with x = 2,} x^{2} + 4 \\quad \\Rightarrow \\quad 2^2+4=8$"
      ],
      "text/plain": [
       "<IPython.core.display.Math object>"
      ]
     },
     "metadata": {},
     "output_type": "display_data"
    }
   ],
   "source": [
    "expr = x**2 + 4\n",
    "for i in range(-2,3):\n",
    "    \n",
    "   display(Math('\\\\text{with x = %g,} %s \\\\quad \\\\Rightarrow \\\\quad %g^2+4=%g' \n",
    "                 %(i,sym.latex(expr),i,expr.subs(x,i))))\n",
    "   #  display(Math('\\\\text{with x = %g,} %s \\\\quad \\\\Rightarrow \\\\quad %s=%g' \n",
    "   #              %(i,sym.latex(expr),sym.latex(expr.subs(x,i)),expr.subs(x,i))))"
   ]
  },
  {
   "cell_type": "markdown",
   "id": "cfbd1e91",
   "metadata": {},
   "source": [
    "### law of exponents \n",
    "\n",
    "For multiplication of terms: If the basis are the same the power can be added together\n",
    "$$x^y  x^z = x^{x+y}$$  \n",
    "\n",
    "For division of terms: If the basis are the same they can subtracted\n",
    "$$\\frac{x^y}{x^z} = x^y x^{-z} = x^{y-z} $$\n",
    "\n",
    "If the basis are not the same then it cannot be simplified \n",
    "$$ x^y s^z = x^z s^y $$\n"
   ]
  },
  {
   "cell_type": "code",
   "execution_count": 119,
   "id": "7c3144e7",
   "metadata": {},
   "outputs": [
    {
     "data": {
      "text/latex": [
       "$\\displaystyle 32$"
      ],
      "text/plain": [
       "32"
      ]
     },
     "metadata": {},
     "output_type": "display_data"
    },
    {
     "data": {
      "text/latex": [
       "$\\displaystyle 32$"
      ],
      "text/plain": [
       "32"
      ]
     },
     "metadata": {},
     "output_type": "display_data"
    },
    {
     "data": {
      "text/latex": [
       "$\\displaystyle \\frac{1}{2}$"
      ],
      "text/plain": [
       "1/2"
      ]
     },
     "metadata": {},
     "output_type": "display_data"
    },
    {
     "data": {
      "text/latex": [
       "$\\displaystyle \\frac{1}{2}$"
      ],
      "text/plain": [
       "1/2"
      ]
     },
     "metadata": {},
     "output_type": "display_data"
    }
   ],
   "source": [
    "x,y,z = sym.symbols(\"x,y,z\")\n",
    "\n",
    "ex = x**y * x**z\n",
    "display(ex.subs({x:2,y:2,z:3}))\n",
    "\n",
    "ex_2 = x**(y+z)\n",
    "display(ex_2.subs({x:2,y:2,z:3}))\n",
    "\n",
    "ex_3 = x**y/x**z\n",
    "display(ex_3.subs({x:2,y:2,z:3}))\n",
    "\n",
    "\n",
    "ex_4 = x**(y-z)\n",
    "display(ex_4.subs({x:2,y:2,z:3}))\n"
   ]
  },
  {
   "cell_type": "code",
   "execution_count": 121,
   "id": "38bac9e1",
   "metadata": {},
   "outputs": [
    {
     "data": {
      "text/latex": [
       "$\\displaystyle x^{y + z}$"
      ],
      "text/plain": [
       " y + z\n",
       "x     "
      ]
     },
     "metadata": {},
     "output_type": "display_data"
    },
    {
     "data": {
      "text/latex": [
       "$\\displaystyle x^{y} y^{z}$"
      ],
      "text/plain": [
       " y  z\n",
       "x ⋅y "
      ]
     },
     "metadata": {},
     "output_type": "display_data"
    }
   ],
   "source": [
    "ex = x**y * x**z\n",
    "# sympy tries to simplify the given expression.\n",
    "display(sym.simplify(ex))\n",
    "\n",
    "\n",
    "ex = x**y * y**z\n",
    "# sympy tries to simplify the given expression - BUT in this case cannot\n",
    "display(sym.simplify(ex))\n"
   ]
  },
  {
   "cell_type": "code",
   "execution_count": 123,
   "id": "e9d02eab",
   "metadata": {},
   "outputs": [
    {
     "data": {
      "text/latex": [
       "$\\displaystyle x^{y} x^{z} = x^{y + z}$"
      ],
      "text/plain": [
       "<IPython.core.display.Math object>"
      ]
     },
     "metadata": {},
     "output_type": "display_data"
    },
    {
     "data": {
      "text/latex": [
       "$\\displaystyle x^{y} x^{- z} = x^{y - z}$"
      ],
      "text/plain": [
       "<IPython.core.display.Math object>"
      ]
     },
     "metadata": {},
     "output_type": "display_data"
    },
    {
     "data": {
      "text/latex": [
       "$\\displaystyle x^{y} y^{z} = x^{y} y^{z}$"
      ],
      "text/plain": [
       "<IPython.core.display.Math object>"
      ]
     },
     "metadata": {},
     "output_type": "display_data"
    }
   ],
   "source": [
    "#show law of exponents using symplify\n",
    "ex_1 = x**y * x**z\n",
    "ex_2 = x**y/x**z\n",
    "ex_3 = x**y * y**z\n",
    "\n",
    "\n",
    "display(Math('%s = %s'%(sym.latex(ex_1),sym.latex(sym.simplify(ex_1)))))\n",
    "display(Math('%s = %s'%(sym.latex(ex_2),sym.latex(sym.simplify(ex_2)))))\n",
    "display(Math('%s = %s'%(sym.latex(ex_3),sym.latex(sym.simplify(ex_3)))))"
   ]
  },
  {
   "cell_type": "code",
   "execution_count": 125,
   "id": "4cb485c5",
   "metadata": {},
   "outputs": [
    {
     "data": {
      "text/latex": [
       "$\\displaystyle \\text{True}$"
      ],
      "text/plain": [
       "True"
      ]
     },
     "execution_count": 125,
     "metadata": {},
     "output_type": "execute_result"
    }
   ],
   "source": [
    "#sym has equality evaluation.\n",
    "sym.Eq(4,2+2)"
   ]
  },
  {
   "cell_type": "markdown",
   "id": "dd8aa7f3",
   "metadata": {},
   "source": [
    "    if there is not enough info in the input to sym.Eq() then it will print out the equation rather than trying to evaluate it.\n",
    "    "
   ]
  }
 ],
 "metadata": {
  "kernelspec": {
   "display_name": "Python 3 (ipykernel)",
   "language": "python",
   "name": "python3"
  },
  "language_info": {
   "codemirror_mode": {
    "name": "ipython",
    "version": 3
   },
   "file_extension": ".py",
   "mimetype": "text/x-python",
   "name": "python",
   "nbconvert_exporter": "python",
   "pygments_lexer": "ipython3",
   "version": "3.9.10"
  },
  "toc": {
   "base_numbering": 1,
   "nav_menu": {},
   "number_sections": true,
   "sideBar": true,
   "skip_h1_title": true,
   "title_cell": "Table of Contents",
   "title_sidebar": "Contents",
   "toc_cell": true,
   "toc_position": {},
   "toc_section_display": true,
   "toc_window_display": false
  }
 },
 "nbformat": 4,
 "nbformat_minor": 5
}
